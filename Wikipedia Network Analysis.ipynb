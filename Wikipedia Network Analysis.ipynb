{
 "metadata": {
  "name": "",
  "signature": "sha256:9d1ddefac829300f7158b7898a962860c55eb2d4b297d0569f08aca3f6e25518"
 },
 "nbformat": 3,
 "nbformat_minor": 0,
 "worksheets": [
  {
   "cells": [
    {
     "cell_type": "heading",
     "level": 1,
     "metadata": {},
     "source": [
      "Wikipedia Network Analysis"
     ]
    },
    {
     "cell_type": "markdown",
     "metadata": {},
     "source": [
      "By Brian Keegan, Ph.D. -- October 4, 2014\n",
      "\n",
      "Released under a [CC-BY-SA 3.0 License](https://creativecommons.org/licenses/by-sa/3.0/).\n",
      "\n",
      "[Web](http://www.brianckeegan.com); [@bkeegan](https://twitter.com/bkeegan); [GitHub](github.com/brianckeegan/)"
     ]
    },
    {
     "cell_type": "markdown",
     "metadata": {},
     "source": [
      "Importing libraries we'll want to use throughout the analysis right away."
     ]
    },
    {
     "cell_type": "code",
     "collapsed": false,
     "input": [
      "# Standard packages for data analysis\n",
      "%matplotlib inline\n",
      "import numpy as np\n",
      "import matplotlib.pyplot as plt\n",
      "\n",
      "# pandas handles tabular data\n",
      "import pandas as pd\n",
      "\n",
      "# networkx handles network data\n",
      "import networkx as nx\n",
      "\n",
      "# json handles reading and writing JSON data\n",
      "import json\n",
      "\n",
      "# To visualize webpages within this webpage\n",
      "from IPython.display import HTML\n",
      "\n",
      "# To run queries against MediaWiki APIs\n",
      "from wikitools import wiki, api\n",
      "\n",
      "# Some other helper functions\n",
      "from collections import Counter\n",
      "from operator import itemgetter"
     ],
     "language": "python",
     "metadata": {},
     "outputs": [],
     "prompt_number": 3
    },
    {
     "cell_type": "heading",
     "level": 1,
     "metadata": {},
     "source": [
      "Write a basic query against the Wikipedia API"
     ]
    },
    {
     "cell_type": "heading",
     "level": 3,
     "metadata": {},
     "source": [
      "Running a test query in the browser"
     ]
    },
    {
     "cell_type": "markdown",
     "metadata": {},
     "source": [
      "We are going to make a query using the `list=users` action. [This page](http://en.wikipedia.org/w/api.php) contains all the documentation for the different queries you can run from Wikipedia's MediaWiki API. For our first test query, we'll want to get the information about a single user. Search for \"list=users\". You can also find similar information about this specific query action [here](https://www.mediawiki.org/wiki/API:Users) in the general MediaWiki documentation.\n",
      "\n",
      "We can actually write a test query in the URL which will return results if the parameters are all valid. Use the example given on the `api.php` page of documentation:\n",
      "\n",
      "http://en.wikipedia.org/w/api.php?action=query&list=users&ususers=Madcoverboy|Jimbo_Wales&usprop=blockinfo|groups|editcount|registration|gender\n",
      "\n",
      "There are four parameters in this API call, separated by `&` signs:\n",
      "\n",
      "* **`action`** - We pass a `query` option here to differentiate it from other actions we can run on the API like `parse`. But `action=query` will be what we use much of the time.\n",
      "* **`list`** - This is one of several parameters we can use to make a query; search for \"action=query\" for others besides `list`. We pass a `users` option to `list` because we want to generate information about users. This lets us run the sub-options detailed in the documentation below.\n",
      "* **`ususers`** - Here we list the names of Wikipedia users we want to get information about. We can pass more than one name by adding a pipe \"`|`\" between names. The documentation says we can only pass up to 50 names per request. Here we pass two names `Madcoverboy` for yours truly and `Jimbo_Wales` for the founder of Wikipedia.\n",
      "* **`usprop`** - Here we pass a list of options detailed under the `list=users` about information we can obtain about any user. Again we use pipes to connect multiple options together. We are going to get information about whether a user is currently blocked (`blockinfo`), what powers the user has (`groups`), their total number of edits (`editcount`), the date and time they registered their account (`registration`), and their self-reported gender (`gender`).\n",
      "\n",
      "In summary, this API request is going to perform a query action that expects us to pass a list of user names and will return information about the users. We have given the query the names of the users we want information about as well as the specific types of information about each of these users.\n",
      "\n",
      "The codeblock below shows what clicking the URL should return."
     ]
    },
    {
     "cell_type": "code",
     "collapsed": false,
     "input": [
      "HTML('http://en.wikipedia.org/w/api.php?action=query&list=users&ususers=Madcoverboy|Jimbo_Wales&usprop=blockinfo|groups|editcount|registration|gender')"
     ],
     "language": "python",
     "metadata": {},
     "outputs": [
      {
       "html": [
        "<!DOCTYPE HTML>\n",
        "<html>\n",
        "<head>\n",
        "\t<title>MediaWiki API Result</title>\n",
        "</head>\n",
        "<body>\n",
        "<br />\n",
        "<small>\n",
        "You are looking at the HTML representation of the XML format.<br />\n",
        "HTML is good for debugging, but is unsuitable for application use.<br />\n",
        "Specify the format parameter to change the output format.<br />\n",
        "To see the non HTML representation of the XML format, set format=xml.<br />\n",
        "See the <a href='https://www.mediawiki.org/wiki/API'>complete documentation</a>, or\n",
        "<a href='/w/api.php'>API help</a> for more information.\n",
        "</small>\n",
        "<pre style='white-space: pre-wrap;'>\n",
        "<span style=\"color:blue;\">&lt;?xml version=&quot;1.0&quot;?&gt;</span>\n",
        "<span style=\"color:blue;\">&lt;api&gt;</span>\n",
        "  <span style=\"color:blue;\">&lt;query&gt;</span>\n",
        "    <span style=\"color:blue;\">&lt;users&gt;</span>\n",
        "      <span style=\"color:blue;\">&lt;user userid=&quot;304994&quot; name=&quot;Madcoverboy&quot; editcount=&quot;12348&quot; registration=&quot;2005-06-21T13:52:16Z&quot; gender=&quot;male&quot;&gt;</span>\n",
        "        <span style=\"color:blue;\">&lt;groups&gt;</span>\n",
        "          <span style=\"color:blue;\">&lt;g&gt;</span>reviewer<span style=\"color:blue;\">&lt;/g&gt;</span>\n",
        "          <span style=\"color:blue;\">&lt;g&gt;</span>*<span style=\"color:blue;\">&lt;/g&gt;</span>\n",
        "          <span style=\"color:blue;\">&lt;g&gt;</span>user<span style=\"color:blue;\">&lt;/g&gt;</span>\n",
        "          <span style=\"color:blue;\">&lt;g&gt;</span>autoconfirmed<span style=\"color:blue;\">&lt;/g&gt;</span>\n",
        "        <span style=\"color:blue;\">&lt;/groups&gt;</span>\n",
        "      <span style=\"color:blue;\">&lt;/user&gt;</span>\n",
        "      <span style=\"color:blue;\">&lt;user userid=&quot;24&quot; name=&quot;Jimbo Wales&quot; editcount=&quot;11768&quot; registration=&quot;2001-03-27T20:47:31Z&quot; gender=&quot;unknown&quot;&gt;</span>\n",
        "        <span style=\"color:blue;\">&lt;groups&gt;</span>\n",
        "          <span style=\"color:blue;\">&lt;g&gt;</span>checkuser<span style=\"color:blue;\">&lt;/g&gt;</span>\n",
        "          <span style=\"color:blue;\">&lt;g&gt;</span>founder<span style=\"color:blue;\">&lt;/g&gt;</span>\n",
        "          <span style=\"color:blue;\">&lt;g&gt;</span>oversight<span style=\"color:blue;\">&lt;/g&gt;</span>\n",
        "          <span style=\"color:blue;\">&lt;g&gt;</span>sysop<span style=\"color:blue;\">&lt;/g&gt;</span>\n",
        "          <span style=\"color:blue;\">&lt;g&gt;</span>*<span style=\"color:blue;\">&lt;/g&gt;</span>\n",
        "          <span style=\"color:blue;\">&lt;g&gt;</span>user<span style=\"color:blue;\">&lt;/g&gt;</span>\n",
        "          <span style=\"color:blue;\">&lt;g&gt;</span>autoconfirmed<span style=\"color:blue;\">&lt;/g&gt;</span>\n",
        "        <span style=\"color:blue;\">&lt;/groups&gt;</span>\n",
        "      <span style=\"color:blue;\">&lt;/user&gt;</span>\n",
        "    <span style=\"color:blue;\">&lt;/users&gt;</span>\n",
        "  <span style=\"color:blue;\">&lt;/query&gt;</span>\n",
        "<span style=\"color:blue;\">&lt;/api&gt;</span>\n",
        "</pre>\n",
        "</body>\n",
        "</html>\n",
        "<script>if(window.mw){\n",
        "mw.config.set({\"wgBackendResponseTime\":55,\"wgHostname\":\"mw1194\"});\n",
        "}</script>"
       ],
       "metadata": {},
       "output_type": "pyout",
       "prompt_number": 27,
       "text": [
        "<IPython.core.display.HTML at 0xc9ec9b0>"
       ]
      }
     ],
     "prompt_number": 27
    },
    {
     "cell_type": "markdown",
     "metadata": {},
     "source": [
      "There's a lot of padding and fields from the XML markup this returns by default, but the data are all in there. My `userid` is \"304994\", my `username` is \"Madcoverboy\" (which we already knew), I have 12,348 edts, I registered my account on June 21, 2005 at 1:52:16pm GMT, I identify as male, and I'm a member of four \"groups\" corresponding to my editing privileges: `reviewer`, `*`, `user`, and `autoconfirmed`."
     ]
    },
    {
     "cell_type": "heading",
     "level": 3,
     "metadata": {},
     "source": [
      "Running the same query in Python"
     ]
    },
    {
     "cell_type": "markdown",
     "metadata": {},
     "source": [
      "Clicking on the link will run the query and return the results in your web browser. However, the point of using an API is not for you to make queries with a URL and then copy-paste the results into Python. We're going to run the query within Python (rather than the web browser) and return the data back to us in a format that we can continue to use for analysis.\n",
      "\n",
      "First we need to write a function that will accept something that corresponds to the query we want to run, goes out and connects to the English Wikipedia's MediaWiki API \"spigot\", formats our query for this API to understand, runs the query until all the results come back, and then returns the results to us as some data object. The function below does all of those things, but it's best to just treat it as a black box for now that accepts queries and spits out the results from the English Wikipedia. \n",
      "\n",
      "(If you want to use another another MediaWiki API, replace the current URL following `site_url` with the corresponding API location. For example, [Memory Alpha](http://en.memory-alpha.org/)'s is http://en.memory-alpha.org/api.php)"
     ]
    },
    {
     "cell_type": "code",
     "collapsed": false,
     "input": [
      "def wikipedia_query(query_params,site_url='http://en.wikipedia.org/w/api.php'):\n",
      "    site = wiki.Wiki(url=site_url)\n",
      "    request = api.APIRequest(site, query_params)\n",
      "    result = request.query()\n",
      "    return result[query_params['action']]"
     ],
     "language": "python",
     "metadata": {},
     "outputs": [],
     "prompt_number": 5
    },
    {
     "cell_type": "markdown",
     "metadata": {},
     "source": [
      "We can write the exact same query as we used above using a dictionary for all the same request parameters as key value pairs and save the dictionary as `user_query`. For example, where we used `action=query` in the URL above, we use `'action':'query'` as a key-value pair of strings (make sure to include the quotes marking these as strings, rather than variables!) in the query dictionary. Then we can pass this query dictionary to the `wikipedia_query` black box function defined above to get the exact same information out. We save the output in `query_results` and can look at the results by calling this variable."
     ]
    },
    {
     "cell_type": "code",
     "collapsed": false,
     "input": [
      "user_query = {'action':'query',\n",
      "              'list':'users',\n",
      "              'usprop':'blockinfo|groups|editcount|registration|gender',\n",
      "              'ususers':'Madcoverboy|Jimbo Wales'}\n",
      "\n",
      "query_results = wikipedia_query(user_query)\n",
      "query_results"
     ],
     "language": "python",
     "metadata": {},
     "outputs": [
      {
       "metadata": {},
       "output_type": "pyout",
       "prompt_number": 6,
       "text": [
        "{u'users': [{u'editcount': 12348,\n",
        "   u'gender': u'male',\n",
        "   u'groups': [u'reviewer', u'*', u'user', u'autoconfirmed'],\n",
        "   u'name': u'Madcoverboy',\n",
        "   u'registration': u'2005-06-21T13:52:16Z',\n",
        "   u'userid': 304994},\n",
        "  {u'editcount': 11778,\n",
        "   u'gender': u'unknown',\n",
        "   u'groups': [u'checkuser',\n",
        "    u'founder',\n",
        "    u'oversight',\n",
        "    u'sysop',\n",
        "    u'*',\n",
        "    u'user',\n",
        "    u'autoconfirmed'],\n",
        "   u'name': u'Jimbo Wales',\n",
        "   u'registration': u'2001-03-27T20:47:31Z',\n",
        "   u'userid': 24}]}"
       ]
      }
     ],
     "prompt_number": 6
    },
    {
     "cell_type": "markdown",
     "metadata": {},
     "source": [
      "The data structure that is returned is a dictionary keyed by `'users'` which returns a list of dictionaries. Knowing that the data corresponding to `Jimbo Wales` is the second element in the list of dictionaries (remember Python indices start at 0, so the 2nd element corresponds to 1), we can access his edit count. "
     ]
    },
    {
     "cell_type": "code",
     "collapsed": false,
     "input": [
      "query_results['users'][1]['editcount']"
     ],
     "language": "python",
     "metadata": {},
     "outputs": [
      {
       "metadata": {},
       "output_type": "pyout",
       "prompt_number": 7,
       "text": [
        "11778"
       ]
      }
     ],
     "prompt_number": 7
    },
    {
     "cell_type": "heading",
     "level": 3,
     "metadata": {},
     "source": [
      "Write a function to simplify the process"
     ]
    },
    {
     "cell_type": "markdown",
     "metadata": {},
     "source": [
      "Instead of writing each query manually, we can define a function `get_user_properties` that accepts a user name(s), and returns ther results of the query used above but replaces \"Madcoverboy\" and \"Jimbo Wales\" with the user name(s) passed."
     ]
    },
    {
     "cell_type": "code",
     "collapsed": false,
     "input": [
      "def get_user_properties(user):\n",
      "    result = wikipedia_query({'action':'query',\n",
      "                              'list':'users',\n",
      "                              'usprop':'blockinfo|groups|editcount|registration|gender',\n",
      "                              'ususers':user})\n",
      "    return result"
     ],
     "language": "python",
     "metadata": {},
     "outputs": [],
     "prompt_number": 8
    },
    {
     "cell_type": "markdown",
     "metadata": {},
     "source": [
      "We can test this function on another user, \"Koavf\" who is the [most active user on the English Wikipedia](https://en.wikipedia.org/wiki/Wikipedia:List_of_Wikipedians_by_number_of_edits#1.E2.80.931000). We'll save his results to `koavf_query_results`."
     ]
    },
    {
     "cell_type": "code",
     "collapsed": false,
     "input": [
      "koavf_query_results = get_user_properties('Koavf')\n",
      "koavf_query_results"
     ],
     "language": "python",
     "metadata": {},
     "outputs": [
      {
       "metadata": {},
       "output_type": "pyout",
       "prompt_number": 9,
       "text": [
        "{u'users': [{u'editcount': 1335895,\n",
        "   u'gender': u'male',\n",
        "   u'groups': [u'accountcreator',\n",
        "    u'autoreviewer',\n",
        "    u'epcampus',\n",
        "    u'eponline',\n",
        "    u'filemover',\n",
        "    u'ipblock-exempt',\n",
        "    u'reviewer',\n",
        "    u'rollbacker',\n",
        "    u'templateeditor',\n",
        "    u'*',\n",
        "    u'user',\n",
        "    u'autoconfirmed'],\n",
        "   u'name': u'Koavf',\n",
        "   u'registration': u'2005-03-05T20:22:47Z',\n",
        "   u'userid': 205121}]}"
       ]
      }
     ],
     "prompt_number": 9
    },
    {
     "cell_type": "heading",
     "level": 3,
     "metadata": {},
     "source": [
      "Write the data we collected to disk"
     ]
    },
    {
     "cell_type": "markdown",
     "metadata": {},
     "source": [
      "All the data we've collected in `query_results` and `koavf_query_results` exist only in memory. Once we shut this notebook down, these data will cease to exist. So we'll want to save these data to disk by \"serializing\" into a format that other programs can use. Two very common file formats are [JavaScript Object Notation (JSON)](https://en.wikipedia.org/wiki/JSON) and [Comma-separated Values (CSV)](https://en.wikipedia.org/wiki/Comma-separated_values). JSON is better for more complex data that contains a mixture of strings, arrays (lists), dictionaries, and booleans while CSV is better for \"flatter\" data that you might want to read into a spreadsheet.\n",
      "\n",
      "We can save a the `koavf_query_results` as a JSON file by creating and opening a file named `koavf_query_results.json` and referring to this connection as `f`. We use the `json.dump` function to translate all the data in the `koavf_query_results` dictionary into the file and once this process is done, the file automatically closes itself so that other programs can access it."
     ]
    },
    {
     "cell_type": "code",
     "collapsed": false,
     "input": [
      "with open('koavf_query_results.json','wb') as f:\n",
      "    json.dump(koavf_query_results,f)"
     ],
     "language": "python",
     "metadata": {},
     "outputs": [],
     "prompt_number": 10
    },
    {
     "cell_type": "markdown",
     "metadata": {},
     "source": [
      "Check to make sure this data was properly exported by reading it back in as `loaded_koavf_query_results`."
     ]
    },
    {
     "cell_type": "code",
     "collapsed": false,
     "input": [
      "with open('koavf_query_results.json','rb') as f:\n",
      "    loaded_koavf_query_results = json.load(f)\n",
      "    \n",
      "loaded_koavf_query_results"
     ],
     "language": "python",
     "metadata": {},
     "outputs": [
      {
       "metadata": {},
       "output_type": "pyout",
       "prompt_number": 11,
       "text": [
        "{u'users': [{u'editcount': 1335895,\n",
        "   u'gender': u'male',\n",
        "   u'groups': [u'accountcreator',\n",
        "    u'autoreviewer',\n",
        "    u'epcampus',\n",
        "    u'eponline',\n",
        "    u'filemover',\n",
        "    u'ipblock-exempt',\n",
        "    u'reviewer',\n",
        "    u'rollbacker',\n",
        "    u'templateeditor',\n",
        "    u'*',\n",
        "    u'user',\n",
        "    u'autoconfirmed'],\n",
        "   u'name': u'Koavf',\n",
        "   u'registration': u'2005-03-05T20:22:47Z',\n",
        "   u'userid': 205121}]}"
       ]
      }
     ],
     "prompt_number": 11
    },
    {
     "cell_type": "markdown",
     "metadata": {},
     "source": [
      "The `query_results` data has two \"observations\" corresponding to \"Madcoverboy\" and \"Jimbo Wales\". We could create a CSV with the columns corresponding to the field names (`editcount`, `gender`, `groups`, `name`, `registration`, `userid`) and then two rows containing the corresponding values for each user.\n",
      "\n",
      "Using a powerful library called \"[pandas](http://pandas.pydata.org/)\" (short for \"panel data\", not the [cute bears](https://inhistime.files.wordpress.com/2010/10/cute-panda.jpg)), we can pass the list of data inside `query_results` and pandas will attempt to convert it to a tabular format called a DataFrame that can be exported to CSV. We save this as `df` and then use the `to_csv` function to write this DataFrame to a CSV file. We use to extra options, declaring quotation marks to make sure the data in `groups`, which already contains commas, doesn't get split up later. We don't care about the row numbers (the index), so we declare `index=False` so they aren't exported."
     ]
    },
    {
     "cell_type": "code",
     "collapsed": false,
     "input": [
      "query_results['users']"
     ],
     "language": "python",
     "metadata": {},
     "outputs": [
      {
       "metadata": {},
       "output_type": "pyout",
       "prompt_number": 12,
       "text": [
        "[{u'editcount': 12348,\n",
        "  u'gender': u'male',\n",
        "  u'groups': [u'reviewer', u'*', u'user', u'autoconfirmed'],\n",
        "  u'name': u'Madcoverboy',\n",
        "  u'registration': u'2005-06-21T13:52:16Z',\n",
        "  u'userid': 304994},\n",
        " {u'editcount': 11778,\n",
        "  u'gender': u'unknown',\n",
        "  u'groups': [u'checkuser',\n",
        "   u'founder',\n",
        "   u'oversight',\n",
        "   u'sysop',\n",
        "   u'*',\n",
        "   u'user',\n",
        "   u'autoconfirmed'],\n",
        "  u'name': u'Jimbo Wales',\n",
        "  u'registration': u'2001-03-27T20:47:31Z',\n",
        "  u'userid': 24}]"
       ]
      }
     ],
     "prompt_number": 12
    },
    {
     "cell_type": "code",
     "collapsed": false,
     "input": [
      "df = pd.DataFrame(query_results['users'])\n",
      "df.to_csv('query_results.csv',quotechar='\"',index=False)\n",
      "df"
     ],
     "language": "python",
     "metadata": {},
     "outputs": [
      {
       "html": [
        "<div style=\"max-height:1000px;max-width:1500px;overflow:auto;\">\n",
        "<table border=\"1\" class=\"dataframe\">\n",
        "  <thead>\n",
        "    <tr style=\"text-align: right;\">\n",
        "      <th></th>\n",
        "      <th>editcount</th>\n",
        "      <th>gender</th>\n",
        "      <th>groups</th>\n",
        "      <th>name</th>\n",
        "      <th>registration</th>\n",
        "      <th>userid</th>\n",
        "    </tr>\n",
        "  </thead>\n",
        "  <tbody>\n",
        "    <tr>\n",
        "      <th>0</th>\n",
        "      <td> 12348</td>\n",
        "      <td>    male</td>\n",
        "      <td>                [reviewer, *, user, autoconfirmed]</td>\n",
        "      <td> Madcoverboy</td>\n",
        "      <td> 2005-06-21T13:52:16Z</td>\n",
        "      <td> 304994</td>\n",
        "    </tr>\n",
        "    <tr>\n",
        "      <th>1</th>\n",
        "      <td> 11778</td>\n",
        "      <td> unknown</td>\n",
        "      <td> [checkuser, founder, oversight, sysop, *, user...</td>\n",
        "      <td> Jimbo Wales</td>\n",
        "      <td> 2001-03-27T20:47:31Z</td>\n",
        "      <td>     24</td>\n",
        "    </tr>\n",
        "  </tbody>\n",
        "</table>\n",
        "</div>"
       ],
       "metadata": {},
       "output_type": "pyout",
       "prompt_number": 13,
       "text": [
        "   editcount   gender                                             groups  \\\n",
        "0      12348     male                 [reviewer, *, user, autoconfirmed]   \n",
        "1      11778  unknown  [checkuser, founder, oversight, sysop, *, user...   \n",
        "\n",
        "          name          registration  userid  \n",
        "0  Madcoverboy  2005-06-21T13:52:16Z  304994  \n",
        "1  Jimbo Wales  2001-03-27T20:47:31Z      24  "
       ]
      }
     ],
     "prompt_number": 13
    },
    {
     "cell_type": "markdown",
     "metadata": {},
     "source": [
      "Check to make sure this data was properly exported by reading it back in."
     ]
    },
    {
     "cell_type": "code",
     "collapsed": false,
     "input": [
      "pd.read_csv('query_results.csv',quotechar='\"')"
     ],
     "language": "python",
     "metadata": {},
     "outputs": [
      {
       "html": [
        "<div style=\"max-height:1000px;max-width:1500px;overflow:auto;\">\n",
        "<table border=\"1\" class=\"dataframe\">\n",
        "  <thead>\n",
        "    <tr style=\"text-align: right;\">\n",
        "      <th></th>\n",
        "      <th>editcount</th>\n",
        "      <th>gender</th>\n",
        "      <th>groups</th>\n",
        "      <th>name</th>\n",
        "      <th>registration</th>\n",
        "      <th>userid</th>\n",
        "    </tr>\n",
        "  </thead>\n",
        "  <tbody>\n",
        "    <tr>\n",
        "      <th>0</th>\n",
        "      <td> 12348</td>\n",
        "      <td>    male</td>\n",
        "      <td>    [u'reviewer', u'*', u'user', u'autoconfirmed']</td>\n",
        "      <td> Madcoverboy</td>\n",
        "      <td> 2005-06-21T13:52:16Z</td>\n",
        "      <td> 304994</td>\n",
        "    </tr>\n",
        "    <tr>\n",
        "      <th>1</th>\n",
        "      <td> 11778</td>\n",
        "      <td> unknown</td>\n",
        "      <td> [u'checkuser', u'founder', u'oversight', u'sys...</td>\n",
        "      <td> Jimbo Wales</td>\n",
        "      <td> 2001-03-27T20:47:31Z</td>\n",
        "      <td>     24</td>\n",
        "    </tr>\n",
        "  </tbody>\n",
        "</table>\n",
        "</div>"
       ],
       "metadata": {},
       "output_type": "pyout",
       "prompt_number": 14,
       "text": [
        "   editcount   gender                                             groups  \\\n",
        "0      12348     male     [u'reviewer', u'*', u'user', u'autoconfirmed']   \n",
        "1      11778  unknown  [u'checkuser', u'founder', u'oversight', u'sys...   \n",
        "\n",
        "          name          registration  userid  \n",
        "0  Madcoverboy  2005-06-21T13:52:16Z  304994  \n",
        "1  Jimbo Wales  2001-03-27T20:47:31Z      24  "
       ]
      }
     ],
     "prompt_number": 14
    },
    {
     "cell_type": "heading",
     "level": 3,
     "metadata": {},
     "source": [
      "Summary"
     ]
    },
    {
     "cell_type": "markdown",
     "metadata": {},
     "source": [
      "In this section, we've covered the basics for how:\n",
      "\n",
      "* to look up documentation about the MediaWiki API\n",
      "* format a basic query and test to make sure it works within a web browser\n",
      "* running the same query within Python\n",
      "* writing a function to simplify querying data\n",
      "* writing the results of these queries to files so we can access these data later.\n",
      "\n",
      "In the next sections, we'll use other queries to get more interesting data about relationships and more advanced data manipulation techniques to prepare these data for social network analysis."
     ]
    },
    {
     "cell_type": "heading",
     "level": 1,
     "metadata": {},
     "source": [
      "Create hyperlink network"
     ]
    },
    {
     "cell_type": "heading",
     "level": 3,
     "metadata": {},
     "source": [
      "List of articles currently linked *from* an article"
     ]
    },
    {
     "cell_type": "markdown",
     "metadata": {},
     "source": [
      "We are going to use the `prop=links` query to identify a list of articles that are *currently* linked *from* an article. We will use the article for \"[Hillary Rodham Clinton](https://en.wikipedia.org/wiki/Hillary_Rodham_Clinton)\". The general MediaWiki documentation for this query is [here](https://www.mediawiki.org/wiki/API:Properties#links_.2F_pl). We will specify a query using the `action=query` to define a general class of query, the `prop=links` to indicate we want the current links from a page, and then pass the name of a page with `titles=Hillary Rodham Clinton`.\n",
      "\n",
      "There are [many \"namespaces\" of Wikipedia pages](https://en.wikipedia.org/wiki/Wikipedia:Namespace) that reflect different kinds of pages for articles, article talk pages, user pages, user talk pages, and other administrative pages. Links to and from a Wikipedia article can come from all these name spaces, but because the Wikipedia articles that 99% of us ever read are located inside the \"0\" namespace, we'll only want to limit ourselves to links in that namespace rather than these \"backchannel\" links. We enforce this limit with the `plnamespace=0` option.\n",
      "\n",
      "There could potentially be hudreds of links from a single article but the API will only return some number per request. The `wikitools` library takes care of automatically generating additional requests if there is more data to obtain after the first request. Ideally, we could specify a large number like 10,000 to make sure we get all the links with a single request, but the API enforces a limit of 500 links per request and defaults to only 10 per request. We use the `pllimit=500` to make sure we get the maximum number of links per request instead of issuing 50 requests."
     ]
    },
    {
     "cell_type": "code",
     "collapsed": false,
     "input": [
      "outlink_query = {'action': 'query',\n",
      "                 'prop': 'links',\n",
      "                 'titles': 'Hillary Rodham Clinton',\n",
      "                 'pllimit': '500',\n",
      "                 'plnamespace':'0'}\n",
      "\n",
      "hrc_outlink_data = wikipedia_query(outlink_query)"
     ],
     "language": "python",
     "metadata": {},
     "outputs": [],
     "prompt_number": 16
    },
    {
     "cell_type": "code",
     "collapsed": false,
     "input": [
      "hrc_outlink_data['pages'][u'5043192']['links'][:5]"
     ],
     "language": "python",
     "metadata": {},
     "outputs": [
      {
       "metadata": {},
       "output_type": "pyout",
       "prompt_number": 78,
       "text": [
        "[{u'ns': 0, u'title': u'Virginia Clinton Kelley'},\n",
        " {u'ns': 0, u'title': u'2008 Democratic National Convention'},\n",
        " {u'ns': 0, u'title': u'Scottish people'},\n",
        " {u'ns': 0, u'title': u'United Press International'},\n",
        " {u'ns': 0, u'title': u'Edmund Hillary'}]"
       ]
      }
     ],
     "prompt_number": 78
    },
    {
     "cell_type": "markdown",
     "metadata": {},
     "source": [
      "The data returned by this query is a dictionary of dictionaries that you'll need to dive \"into\" more deeply to access the data itself. The top dictionary contains a single key `'pages'` which returns a dictionary containing a single key `u'5043192'` corresponding to the page ID for the article. Once you're inside this dictionary, you can access the list of links, which are unfortunately a list of dictionaries! Using something called a \"[list comprehension](http://www.pythonforbeginners.com/basics/list-comprehensions-in-python)\", I can clean this data up to get a nice concise list of links, which we save as `hrc_outlink_list`. I also print out the number of links in this list and 10 examples of these links. "
     ]
    },
    {
     "cell_type": "code",
     "collapsed": false,
     "input": [
      "hrc_outlink_list = [link['title'] for link in hrc_outlink_data['pages'][u'5043192']['links']]\n",
      "print \"There are {0} links from the Hillary Rodham Clinton article\".format(len(hrc_outlink_list))\n",
      "hrc_outlink_list[:10]"
     ],
     "language": "python",
     "metadata": {},
     "outputs": [
      {
       "output_type": "stream",
       "stream": "stdout",
       "text": [
        "There are 1419 links from the Hillary Rodham Clinton article\n"
       ]
      },
      {
       "metadata": {},
       "output_type": "pyout",
       "prompt_number": 19,
       "text": [
        "[u'Virginia Clinton Kelley',\n",
        " u'2008 Democratic National Convention',\n",
        " u'Scottish people',\n",
        " u'United Press International',\n",
        " u'Edmund Hillary',\n",
        " u'Madeleine Albright',\n",
        " u'Alan Keyes presidential campaign, 2008',\n",
        " u'Margaret Bourke-White',\n",
        " u'Anna Harrison',\n",
        " u'Jeremiah S. Black']"
       ]
      }
     ],
     "prompt_number": 19
    },
    {
     "cell_type": "heading",
     "level": 4,
     "metadata": {},
     "source": [
      "A note on redirects"
     ]
    },
    {
     "cell_type": "markdown",
     "metadata": {},
     "source": [
      "Note that there is an article for \"Hillary Clinton\" as well, but this article is a [redirect](https://en.wikipedia.org/wiki/Wikipedia:Redirect). In other words, this article exists and has data that can be accessed from the API, but it's suspiciously sparse and just points to \"Hillary Rodham Clinton\"."
     ]
    },
    {
     "cell_type": "code",
     "collapsed": false,
     "input": [
      "outlink_query_hc = {'action': 'query',\n",
      "                    'prop': 'links',\n",
      "                    'titles': 'Hillary Clinton',\n",
      "                    'pllimit': '500',\n",
      "                    'plnamespace': '0'}\n",
      "\n",
      "hc_outlink_data = wikipedia_query(outlink_query_hc)\n",
      "hc_outlink_data"
     ],
     "language": "python",
     "metadata": {},
     "outputs": [
      {
       "metadata": {},
       "output_type": "pyout",
       "prompt_number": 20,
       "text": [
        "{u'pages': {u'39797486': {u'links': [{u'ns': 0,\n",
        "     u'title': u'Hillary Rodham Clinton'}],\n",
        "   u'ns': 0,\n",
        "   u'pageid': 39797486,\n",
        "   u'title': u'Hillary Clinton'}}}"
       ]
      }
     ],
     "prompt_number": 20
    },
    {
     "cell_type": "markdown",
     "metadata": {},
     "source": [
      "The MediaWiki API has a `redirects` option that lets us ignore these placeholder redirect pages and will follow the redirect to take us to the intended page. Adding this option to the query but specifying the same `Hillary Clinton` value for the `titles` parameter that previously led to a redirect now returns all the data at the \"Hillary Rodham Clinton\" article. We'll make sure to use this `redirects` option in future queries."
     ]
    },
    {
     "cell_type": "code",
     "collapsed": false,
     "input": [
      "outlink_query_hc_redirect = {'action': 'query',\n",
      "                             'prop': 'links',\n",
      "                             'titles': 'Hillary Clinton', # still \"Hillary Clinton\"\n",
      "                             'pllimit': '500',\n",
      "                             'plnamespace': '0',\n",
      "                             'redirects': 'True'} # redirects parameter added\n",
      "\n",
      "hcr_outlink_data = wikipedia_query(outlink_query_hc_redirect)\n",
      "hcr_outlink_list = [link['title'] for link in hcr_outlink_data['pages'][u'5043192']['links']]\n",
      "print \"There are {0} links from the Hillary Clinton article\".format(len(hcr_outlink_list))\n",
      "hcr_outlink_list[:10]"
     ],
     "language": "python",
     "metadata": {},
     "outputs": [
      {
       "output_type": "stream",
       "stream": "stdout",
       "text": [
        "There are 1419 links from the Hillary Clinton article\n"
       ]
      },
      {
       "metadata": {},
       "output_type": "pyout",
       "prompt_number": 21,
       "text": [
        "[u'Virginia Clinton Kelley',\n",
        " u'2008 Democratic National Convention',\n",
        " u'Scottish people',\n",
        " u'United Press International',\n",
        " u'Edmund Hillary',\n",
        " u'Madeleine Albright',\n",
        " u'Alan Keyes presidential campaign, 2008',\n",
        " u'Margaret Bourke-White',\n",
        " u'Anna Harrison',\n",
        " u'Jeremiah S. Black']"
       ]
      }
     ],
     "prompt_number": 21
    },
    {
     "cell_type": "heading",
     "level": 3,
     "metadata": {},
     "source": [
      "List of articles currently linking *to* an article"
     ]
    },
    {
     "cell_type": "markdown",
     "metadata": {},
     "source": [
      "We are going to use the `prop=linkshere` query to identify a list of articles that *currently* link to the Hillary Rodham Clinton article. The parameters for this query are a bit different. We still use a namespace limitation so we are only getting pages in the article namespace by specifying `lhnamespace=0` and we want to maximize the number of links per query that the API allows by specifying `lhlimit=500`. However, we don't want to include redirects that point to this article (e.g., \"Hillary Clinton\" points to \"Hillary Rodham Clinton\") by specifying `lhshow=!redirect`. Finally we only want the names of the articles, rather than less important information like \"pageid\" or \"redirects\", so we can limit this by specifying `lhprop=title`."
     ]
    },
    {
     "cell_type": "code",
     "collapsed": false,
     "input": [
      "inlink_query_hrc = {'action': 'query',\n",
      "                    'redirects': 'True',\n",
      "                    'prop': 'linkshere',\n",
      "                    'titles': 'Hillary Rodham Clinton',\n",
      "                    'lhlimit': '500',\n",
      "                    'lhnamespace': '0',\n",
      "                    'lhshow': '!redirect',\n",
      "                    'lhprop': 'title'}\n",
      "\n",
      "hrc_inlink_data = wikipedia_query(inlink_query_hrc)"
     ],
     "language": "python",
     "metadata": {},
     "outputs": [],
     "prompt_number": 22
    },
    {
     "cell_type": "markdown",
     "metadata": {},
     "source": [
      "Again some data processing and cleanup is necessary to drill down into the dictionaries of dictionaries to extract the list of links from the data returned by the query. I use a similar list comprehension as above to get this list of links out. Again, I count the number of links in this list and give an example of 10 links."
     ]
    },
    {
     "cell_type": "code",
     "collapsed": false,
     "input": [
      "hrc_inlink_list = [link['title'] for link in hrc_inlink_data['pages'][u'5043192']['linkshere']]\n",
      "print \"There are {0} links to the Hillary Rodham Clinton article\".format(len(hrc_inlink_list))\n",
      "hrc_inlink_list[:10]"
     ],
     "language": "python",
     "metadata": {},
     "outputs": [
      {
       "output_type": "stream",
       "stream": "stdout",
       "text": [
        "There are 1835 links to the Hillary Rodham Clinton article\n"
       ]
      },
      {
       "metadata": {},
       "output_type": "pyout",
       "prompt_number": 24,
       "text": [
        "[u'Virginia Clinton Kelley',\n",
        " u'2011 attack on the British Embassy in Iran',\n",
        " u'James Watson (New York)',\n",
        " u'International security',\n",
        " u'Shannon County, Missouri',\n",
        " u'Margaret Bourke-White',\n",
        " u'2008 Democratic National Convention',\n",
        " u'Alice Paul',\n",
        " u'Foreign relations of Mexico',\n",
        " u'HRC: State Secrets and the Rebirth of Hillary Clinton']"
       ]
      }
     ],
     "prompt_number": 24
    },
    {
     "cell_type": "heading",
     "level": 3,
     "metadata": {},
     "source": [
      "Combining queries"
     ]
    },
    {
     "cell_type": "markdown",
     "metadata": {},
     "source": [
      "In the previous two sections, we came up with two separate queries to get both the links *from* an article and the links *to* an article. However, much to the credit of the MediaWiki API engineers, you can ***combine*** both queries into one. We'll need all the same parameter information that we had included before (`pllimit`, `lhlimit`, etc.), but we can combine the queries together by combining `prop=links` and `prop=linkshere` with a pipe (like we did with user names in the very first query), `prop=links|linkshere`."
     ]
    },
    {
     "cell_type": "code",
     "collapsed": false,
     "input": [
      "alllinks_query_hrc = {'action': 'query',\n",
      "                      'redirects': 'True',\n",
      "                      'prop': 'links|linkshere', #combined both prop calls with a pipe\n",
      "                      'titles': 'Hillary Rodham Clinton',\n",
      "                      'pllimit': '500', #still need the \"prop=links\" \"pl\" parameters and below\n",
      "                      'plnamespace': '0',\n",
      "                      'lhlimit': '500', #still need the \"prop=linkshere\" \"lh\" parameters and below\n",
      "                      'lhnamespace': '0',\n",
      "                      'lhshow': '!redirect',\n",
      "                      'lhprop': 'title'}\n",
      "\n",
      "hrc_alllink_data = wikipedia_query(alllinks_query_hrc)"
     ],
     "language": "python",
     "metadata": {},
     "outputs": [],
     "prompt_number": 25
    },
    {
     "cell_type": "markdown",
     "metadata": {},
     "source": [
      "Again, we need to do some data processing and cleanup to get the lists of links out. However, there are now two different sub-dictionaries within `hrc_alllink_data` object reflecting the output from the `links` and the `linkshere` calls."
     ]
    },
    {
     "cell_type": "code",
     "collapsed": false,
     "input": [
      "hrc_alllink_outlist = [link['title'] for link in hrc_alllink_data['pages'][u'5043192']['links']]\n",
      "hrc_alllink_inlist = [link['title'] for link in hrc_alllink_data['pages'][u'5043192']['linkshere']]\n",
      "print \"There are {0} out links from and {1} in links to the Hillary Rodham Clinton article\".format(len(hrc_alllink_outlist),len(hrc_alllink_inlist))"
     ],
     "language": "python",
     "metadata": {},
     "outputs": [
      {
       "output_type": "stream",
       "stream": "stdout",
       "text": [
        "There are 1419 out links from and 1835 in links to the Hillary Rodham Clinton article\n"
       ]
      }
     ],
     "prompt_number": 26
    },
    {
     "cell_type": "markdown",
     "metadata": {},
     "source": [
      "We can also write a function `get_article_links` that takes an article name as an input and returns the lists containing all the in and out links for that article. We use the combined query described above, but replace Hillary's article title with a generic `article` variable, run the query, pull out the `page_id`, and then do the data processing and cleanup to produce a list of outlinks and a list of inlinks, both of which are passed back out of the function. Again, this query will only pull out the current links on the article, not historical links."
     ]
    },
    {
     "cell_type": "code",
     "collapsed": false,
     "input": [
      "def get_article_links(article):\n",
      "    query = {'action': 'query',\n",
      "             'redirects': 'True',\n",
      "             'prop': 'links|linkshere',\n",
      "             'titles': article, # the article variable is passed into here\n",
      "             'pllimit': '500',\n",
      "             'plnamespace': '0',\n",
      "             'lhlimit': '500',\n",
      "             'lhnamespace': '0',\n",
      "             'lhshow': '!redirect',\n",
      "             'lhprop': 'title'}\n",
      "    results = wikipedia_query(query) # do the query\n",
      "    page_id = results['pages'].keys()[0] # get the page_id\n",
      "    \n",
      "    if 'links' in results['pages'][page_id].keys(): #sometimes there are no links\n",
      "        outlist = [link['title'] for link in results['pages'][page_id]['links']] # clean up outlinks\n",
      "    else:\n",
      "        outlist = [] # return empty list if no outlinks\n",
      "    \n",
      "    if 'linkshere' in results['pages'][page_id].keys(): #sometimes there are no links\n",
      "        inlist = [link['title'] for link in results['pages'][page_id]['linkshere']] # clean up inlinks\n",
      "    else:\n",
      "        inlist = [] # return empty list if no inlinks\n",
      "    return outlist,inlist"
     ],
     "language": "python",
     "metadata": {},
     "outputs": [],
     "prompt_number": 27
    },
    {
     "cell_type": "markdown",
     "metadata": {},
     "source": [
      "We can test this on Bill Clinton's article, for example."
     ]
    },
    {
     "cell_type": "code",
     "collapsed": false,
     "input": [
      "bc_out, bc_in = get_article_links(\"Bill Clinton\")\n",
      "print \"There are {0} out links from and {1} in links to the Bill Clinton article\".format(len(bc_out),len(bc_in))"
     ],
     "language": "python",
     "metadata": {},
     "outputs": [
      {
       "output_type": "stream",
       "stream": "stdout",
       "text": [
        "There are 1249 out links from and 9460 in links to the Bill Clinton article\n"
       ]
      }
     ],
     "prompt_number": 28
    },
    {
     "cell_type": "markdown",
     "metadata": {},
     "source": [
      "Lets put the data for both these queries into a dictionary called `clinton_link_data` so it's easier to access and save. We'll save this data to disk as a JSON as well so we can access it in the future."
     ]
    },
    {
     "cell_type": "code",
     "collapsed": false,
     "input": [
      "clinton_link_data = {\"Hillary Rodham Clinton\": {\"In\": hrc_alllink_inlist,\n",
      "                                                \"Out\": hrc_alllink_outlist},\n",
      "                     \"Bill Clinton\": {\"In\": bc_in,\n",
      "                                      \"Out\": bc_out}\n",
      "                     }\n",
      "\n",
      "with open('clinton_link_data.json','wb') as f:\n",
      "    json.dump(clinton_link_data,f)"
     ],
     "language": "python",
     "metadata": {},
     "outputs": [],
     "prompt_number": 30
    },
    {
     "cell_type": "heading",
     "level": 3,
     "metadata": {},
     "source": [
      "Make a network"
     ]
    },
    {
     "cell_type": "markdown",
     "metadata": {},
     "source": [
      "Having collected data about the neighboring articles that are linked to or from one article, we can turn these data into a network. Using the `NetworkX` library (shortened to `nx` on import at the top), we will create a `DiGraph` object called `hrc_g` and then fill it with the connection data we just collected. We do this by iterating over the lists of links (`hrc_alllink_outlist` and `hrc_alllink_inlist`) and adding a directed edge between each neighbor and the original article. It's important to pay attention to edge direction as the out links should start at \"Hillary Rodham Clinton\" and end at the neighboring article whereas the in links should start at the neighboring article and end at \"Hillary Rodham Clinton\"."
     ]
    },
    {
     "cell_type": "code",
     "collapsed": false,
     "input": [
      "hrc_alllink_outlist[:5]"
     ],
     "language": "python",
     "metadata": {},
     "outputs": [
      {
       "metadata": {},
       "output_type": "pyout",
       "prompt_number": 31,
       "text": [
        "[u'Virginia Clinton Kelley',\n",
        " u'2008 Democratic National Convention',\n",
        " u'Scottish people',\n",
        " u'United Press International',\n",
        " u'Edmund Hillary']"
       ]
      }
     ],
     "prompt_number": 31
    },
    {
     "cell_type": "code",
     "collapsed": false,
     "input": [
      "hrc_g = nx.DiGraph()\n",
      "\n",
      "for article in hrc_alllink_outlist:\n",
      "    hrc_g.add_edge(\"Hillary Rodham Clinton\",article)\n",
      "    \n",
      "for article in hrc_alllink_inlist:\n",
      "    hrc_g.add_edge(article,\"Hillary Rodham Clinton\")"
     ],
     "language": "python",
     "metadata": {},
     "outputs": [],
     "prompt_number": 32
    },
    {
     "cell_type": "markdown",
     "metadata": {},
     "source": [
      "We can compute some basic statistics about the network such as the number of nodes."
     ]
    },
    {
     "cell_type": "code",
     "collapsed": false,
     "input": [
      "len(hrc_alllink_outlist) + len(hrc_alllink_inlist)"
     ],
     "language": "python",
     "metadata": {},
     "outputs": [
      {
       "metadata": {},
       "output_type": "pyout",
       "prompt_number": 34,
       "text": [
        "3254"
       ]
      }
     ],
     "prompt_number": 34
    },
    {
     "cell_type": "code",
     "collapsed": false,
     "input": [
      "hrc_g.number_of_nodes()"
     ],
     "language": "python",
     "metadata": {},
     "outputs": [
      {
       "metadata": {},
       "output_type": "pyout",
       "prompt_number": 33,
       "text": [
        "2647"
       ]
      }
     ],
     "prompt_number": 33
    },
    {
     "cell_type": "code",
     "collapsed": false,
     "input": [
      "print \"There are {0} edges and {1} nodes in the network\".format(hrc_g.number_of_edges(), hrc_g.number_of_nodes())"
     ],
     "language": "python",
     "metadata": {},
     "outputs": [
      {
       "output_type": "stream",
       "stream": "stdout",
       "text": [
        "There are 3254 edges and 2647 nodes in the network\n"
       ]
      }
     ],
     "prompt_number": 122
    },
    {
     "cell_type": "markdown",
     "metadata": {},
     "source": [
      "We might also ask how many of these hyperlink edges are reciprocated, or link in both directions. We start with an empty container `reciprocal_edges` we'll use to fill with edges that are reciprocated. Next, we iterate through all the edges in the graph (`hrc_g.edges()` returns a list of all edges) and check two things. The first check is for whether the graph contains an edge the goes in the opposite direction. So given an edge (`i`,`j`), we check if there's also a (`j`,`i`). The second check is to make sure we haven't already added this edge to the `reciprocal_edges` list. If both these conditions are true, then we can add the edge to `reciprocal_edges`."
     ]
    },
    {
     "cell_type": "code",
     "collapsed": false,
     "input": [
      "reciprocal_edges = list()\n",
      "for (i,j) in hrc_g.edges():\n",
      "    if hrc_g.has_edge(j,i) and (j,i) not in reciprocal_edges:\n",
      "        reciprocal_edges.append((i,j))\n",
      "        \n",
      "reciprocation_fraction = round(float(len(reciprocal_edges))/hrc_g.number_of_edges(),3)\n",
      "print \"There are {0} reciprocated edges out of {1} edges in the network, giving a reciprocation fraction of {2}.\".format(len(reciprocal_edges),hrc_g.number_of_edges(),reciprocation_fraction)"
     ],
     "language": "python",
     "metadata": {},
     "outputs": [
      {
       "output_type": "stream",
       "stream": "stdout",
       "text": [
        "There are 608 reciprocated edges out of 3254 edges in the network, giving a reciprocation fraction of 0.187.\n"
       ]
      }
     ],
     "prompt_number": 35
    },
    {
     "cell_type": "markdown",
     "metadata": {},
     "source": [
      "We can compare this to the network for Bill Clinton. There are many more edges in his network, but a much smaller fraction of these edges are reciprocated. This suggests that there are fewer articles expressing some similarity or relationship with Bill Clinton that his article also acknowledges by linking. This in turn invites questions about:\n",
      "\n",
      "* how the rate of reciprocity differs among biographies versus geographic entities\n",
      "* contemporary versus historical elites\n",
      "* high versus low quality articles\n",
      "* how these rates of reciprocation change over the evolution of the article's collaboration\n",
      "\n",
      "With the query we've covered above, you canbegin to answer these open questions."
     ]
    },
    {
     "cell_type": "code",
     "collapsed": false,
     "input": [
      "bc_g = nx.DiGraph()\n",
      "\n",
      "for article in bc_out:\n",
      "    bc_g.add_edge(\"Bill Clinton\",article)\n",
      "    \n",
      "for article in bc_in:\n",
      "    bc_g.add_edge(article,\"Bill Clinton\")\n",
      "\n",
      "bc_reciprocal_edges = list()\n",
      "for (i,j) in bc_g.edges():\n",
      "    if bc_g.has_edge(j,i) and (j,i) not in bc_reciprocal_edges:\n",
      "        bc_reciprocal_edges.append((i,j))\n",
      "        \n",
      "bc_reciprocation_fraction = round(float(len(bc_reciprocal_edges))/bc_g.number_of_edges(),3)\n",
      "print \"There are {0} reciprocated edges out of {1} edges in the network, giving a reciprocation fraction of {2}.\".format(len(bc_reciprocal_edges),bc_g.number_of_edges(),bc_reciprocation_fraction)"
     ],
     "language": "python",
     "metadata": {},
     "outputs": [
      {
       "output_type": "stream",
       "stream": "stdout",
       "text": [
        "There are 926 reciprocated edges out of 10709 edges in the network, giving a reciprocation fraction of 0.086.\n"
       ]
      }
     ],
     "prompt_number": 36
    },
    {
     "cell_type": "markdown",
     "metadata": {},
     "source": [
      "This is a pretty basic \"star\"-shaped network that contains Hillary's article at the center and is surrounded by all the articles linking to and from it. In particular, we could \"[snowball](https://en.wikipedia.org/wiki/Snowball_sampling)\" out from the the articles that link to and are linked from a given page and visit each of *those* articles and create their local networks. We could continue to do this until we traverse the whole hyperlink network, but that would take a very long time, involve a lot of data, and would be an abusive use of the API (if you want the whole hyperlink network, you can download the data directly [here](https://dumps.wikimedia.org/enwiki/) by clicking a backup date and searching for \"Wiki page-to-page link records.\"). \n",
      "\n",
      "We could also create the \"1.5-step ego\" hyperlink network around a given page that consists of the focal article, all the articles that link to or from it, and then whether these neighboring articles are linked to each other. This could provide a better picture of which neighboring articles link to which other articles.\n",
      "\n",
      "Unfortunately, even the scrape for the 2-step ego hyperlink network could take over an hour of data collection and generate hundreds of megabytes of data. Furthermore, Wikipedia article also contain [templates](https://en.wikipedia.org/wiki/Help:Template) which creates lots of \"redundant\" links between articles that share templates even those these links don't appear in the body of the article itself. You'll need to do much more advanced text parsing of wiki-markup to actually get links in the body of an article, but that's beyond the scope of the present tutorial.\n",
      "\n",
      "***I don't recommend crawling more than the immediate (1-step) neighbors of Wikipedia articles.***"
     ]
    },
    {
     "cell_type": "heading",
     "level": 3,
     "metadata": {},
     "source": [
      "Links from historical versions of an article"
     ]
    },
    {
     "cell_type": "markdown",
     "metadata": {},
     "source": [
      "The queries above only looked at the links coming from the *current* version of the article. However Wikipedia archives every version of the article, so we can rewind the tape all the way back to the first version of Hillary's article back in 2001, a few months after Wikipedia was created. Specific versions of a Wikipedia article are identified with a `revid`, which is also called an `oldid` in some contexts. In subsequent sections, we'll go into more detail on how to get a list of all revisions to an article and find the oldest revision. But for the time being, just trust me that `revid` \"256189\" is the oldest version of the Hillary Rodham Clinton article. Take a peek at what the article looked like back then below:"
     ]
    },
    {
     "cell_type": "code",
     "collapsed": false,
     "input": [
      "HTML('<iframe src=https://en.wikipedia.org/w/index.php?title=Hillary_Rodham_Clinton&oldid=256189&useformat=mobile width=700 height=350></iframe>')"
     ],
     "language": "python",
     "metadata": {},
     "outputs": [
      {
       "html": [
        "<iframe src=https://en.wikipedia.org/w/index.php?title=Hillary_Rodham_Clinton&oldid=256189&useformat=mobile width=700 height=350></iframe>"
       ],
       "metadata": {},
       "output_type": "pyout",
       "prompt_number": 37,
       "text": [
        "<IPython.core.display.HTML at 0x10c5a40d0>"
       ]
      }
     ],
     "prompt_number": 37
    },
    {
     "cell_type": "markdown",
     "metadata": {},
     "source": [
      "The MediaWiki API allows us to extract the out links from this old version of the article. Here we'll perform a different kind of `action` on the API than the previous `query` parameter we've used. The `action=parse` will extract information from a given version of an article, such as the links. We can specify that links should be parsed out with the `prop=links` parameter. Finally, we pass the `oldid=256189` so that this specific revision is parsed."
     ]
    },
    {
     "cell_type": "code",
     "collapsed": false,
     "input": [
      "oldest_outlinks_query_hrc = {'action': 'parse', #query changes to parse\n",
      "                             'prop': 'links',\n",
      "                             'oldid': '256189'}\n",
      "\n",
      "oldest_outlinks_data = wikipedia_query(oldest_outlinks_query_hrc)\n",
      "oldest_outlinks_data"
     ],
     "language": "python",
     "metadata": {},
     "outputs": [
      {
       "output_type": "stream",
       "stream": "stdout",
       "text": [
        "URLError: <urlopen error [Errno 65] No route to host> trying request again in 5 seconds\n"
       ]
      },
      {
       "metadata": {},
       "output_type": "pyout",
       "prompt_number": 38,
       "text": [
        "{u'links': [{u'*': u'Baby Boom', u'exists': u'', u'ns': 0},\n",
        "  {u'*': u'Bill Clinton', u'exists': u'', u'ns': 0},\n",
        "  {u'*': u'First Lady', u'exists': u'', u'ns': 0},\n",
        "  {u'*': u'New York', u'exists': u'', u'ns': 0},\n",
        "  {u'*': u'October 26', u'exists': u'', u'ns': 0},\n",
        "  {u'*': u'Senators Of The United States', u'exists': u'', u'ns': 0},\n",
        "  {u'*': u'United States/President', u'exists': u'', u'ns': 0},\n",
        "  {u'*': u'United States Senate', u'exists': u'', u'ns': 0},\n",
        "  {u'*': u'Watergate', u'exists': u'', u'ns': 0}],\n",
        " u'revid': 256189,\n",
        " u'title': u'Hillary Rodham Clinton'}"
       ]
      }
     ],
     "prompt_number": 38
    },
    {
     "cell_type": "markdown",
     "metadata": {},
     "source": [
      "Again, data processing and cleanup using a list comprehension is necessary to get a list of links from this result."
     ]
    },
    {
     "cell_type": "code",
     "collapsed": false,
     "input": [
      "oldest_outlink_list = [link['*'] for link in oldest_outlinks_data['links']]\n",
      "print \"There are {0} out links from the Hillary Rodham Clinton article\".format(len(oldest_outlink_list))\n",
      "oldest_outlink_list"
     ],
     "language": "python",
     "metadata": {},
     "outputs": [
      {
       "output_type": "stream",
       "stream": "stdout",
       "text": [
        "There are 9 out links from the Hillary Rodham Clinton article\n"
       ]
      },
      {
       "metadata": {},
       "output_type": "pyout",
       "prompt_number": 86,
       "text": [
        "[u'Baby Boom',\n",
        " u'Bill Clinton',\n",
        " u'First Lady',\n",
        " u'New York',\n",
        " u'October 26',\n",
        " u'Senators Of The United States',\n",
        " u'United States/President',\n",
        " u'United States Senate',\n",
        " u'Watergate']"
       ]
      }
     ],
     "prompt_number": 86
    },
    {
     "cell_type": "markdown",
     "metadata": {},
     "source": [
      "So now we can also extract links from historical versions of the article. However, it's *much* more difficult to get the history of what links in to an article (e.g., `linkshere`) as this would require potentially looking at the history of every other article to check if a link was ever made from that article to another article. This is not impossible, just very *very* time-consuming."
     ]
    },
    {
     "cell_type": "heading",
     "level": 3,
     "metadata": {},
     "source": [
      "Summary"
     ]
    },
    {
     "cell_type": "markdown",
     "metadata": {},
     "source": [
      "In this section we learned to write and combine queries to get us the links to and from the current version of an article, clean the output of these queries up into lists of links, use these lists of links to make a network object, and did some preliminary analysis of an article's ego network. There are some limitations on the specificity of the links that the API passes back which limits our ability to generate more complex networks using this query. We also showed that it's possible to get the out links from a historical version of an article using a new kind of API action called a `parse`. Using the out links from all the changes to an article could let us look at the evolution of what the article linked to over time. We'll go into how to get all the changes to an article in the next section."
     ]
    },
    {
     "cell_type": "heading",
     "level": 1,
     "metadata": {},
     "source": [
      "Get all the revisions made to an article"
     ]
    },
    {
     "cell_type": "markdown",
     "metadata": {},
     "source": [
      "The previous section showed how to make a basic network from the current hyperlinks to and from a Wikipedia article. It also alluded to the fact that Wikipedia captures the history of every change made to the article since it was created as well as who made these changes and when (among other meta-data). In this section, we'll explore some queries around how to extract the \"revision history\" of an article from the API. We'll do some exploratory analysis using these data to understand patterns in the distribution of editors' activity, changes in content, and the persistence of revisions. Additionally, we'll construct a co-authorship network of what editors made a change to the article.\n",
      "\n",
      "Starting with a basic query, we'll get every change that's been made to the \"Hillary Rodham Clinton\" article. We'll use `action=query` and `prop=revisions` to get the list of changes to an article (see detailed documentation [here](https://www.mediawiki.org/wiki/API:Properties#revisions_.2F_rv)). There are many options to specify here. We pass several options to `rvprop` to get the revision ids, timestamp, user, user ID, revision comment, and the size of the article; \"max\" to `rvlimit` to get all the revisions; \"newer\" to `rvdir` so the revisions come back in chronological order (oldest to newest). There are many other options that can be specified such as `rvprop=content` to get the content of each revision or `rvstart` and `rvend` to get revisions within a specific timeframe, and `rvexcludeuser` to omit changes from bots for example."
     ]
    },
    {
     "cell_type": "code",
     "collapsed": false,
     "input": [
      "revisions_query_hrc = {'action': 'query',\n",
      "                      'redirects': 'True',\n",
      "                      'prop': 'revisions',\n",
      "                      'titles': \"Hillary Rodham Clinton\",\n",
      "                      'rvprop': 'ids|user|timestamp|userid|comment|size',\n",
      "                      'rvlimit': '500',\n",
      "                      'rvdir': 'newer'}\n",
      "\n",
      "revisions_data_hrc = wikipedia_query(revisions_query_hrc)"
     ],
     "language": "python",
     "metadata": {},
     "outputs": [],
     "prompt_number": 135
    },
    {
     "cell_type": "markdown",
     "metadata": {},
     "source": [
      "There's a lot of data in there and you can already expect that we'll need to do some data processing and cleaning to get it into a more usable form. \n",
      "\n",
      "* As before, the query returns the list of revisions buried deep within a dictionary so we extract that out and, like we did with the user information in the very first section, we pass convert this list of revisions to a \"pandas\" `DataFrame` object that we'll call `hrc_rv_df`. \n",
      "* The `timestamp` column inside of this new DataFrame are still strings rather than meaningful dates that we can sort on, so we need to convert them using the `to_datetime` function and passing a [`strftime`](http://strftime.org/) formatting magic so that we know which string sequences correspond to meaningful years, months, days, hours, minutes, and seconds values. \n",
      "* The `anon` column has a strange mixture of NaN and empty strings corresponding to whether the revision was made by a registered account or now. The `replace` method swaps the NaNs out with `False` and the strings with `True` booleans to make this more interpretable. \n",
      "* We sort the DataFrame on these newly-meaningful `timestamp` values, reset the index (row numbers) so they correspond to the revision count, and label this index as \"revision\".\n",
      "* Finally, we save the data to disk as a CSV file named `hrc_revisions.csv` making sure that we encode non-ASCII characters in \"utf8\". You'll want to make a habit out of doing this."
     ]
    },
    {
     "cell_type": "code",
     "collapsed": false,
     "input": [
      "# Extract and convert to DataFrame\n",
      "hrc_rv_df = pd.DataFrame(revisions_data_hrc['pages']['5043192']['revisions']) \n",
      "\n",
      "# Make it clear what's being edited\n",
      "hrc_rv_df['page'] = [u'Hillary Rodham Clinton']*len(hrc_rv_df)\n",
      "\n",
      "# Clean up timestamps\n",
      "hrc_rv_df['timestamp'] = pd.to_datetime(hrc_rv_df['timestamp'],format=\"%Y-%m-%dT%H:%M:%SZ\",unit='s')\n",
      "\n",
      "# Clean up anon column\n",
      "hrc_rv_df = hrc_rv_df.replace({'anon':{np.nan:False,u'':True}})\n",
      "\n",
      "# Sort the data on timestamp and reset the index\n",
      "hrc_rv_df = hrc_rv_df.sort('timestamp').reset_index(drop=True)\n",
      "hrc_rv_df.index.name = 'revision'\n",
      "hrc_rv_df = hrc_rv_df.reset_index()\n",
      "\n",
      "# Set the index to a MultiIndex\n",
      "hrc_rv_df.set_index(['page','revision'],inplace=True)\n",
      "\n",
      "# Save the data to disk\n",
      "hrc_rv_df.to_csv('hrc_revisions.csv',encoding='utf8')\n",
      "\n",
      "# Show the first 5 rows\n",
      "hrc_rv_df.head()"
     ],
     "language": "python",
     "metadata": {},
     "outputs": [
      {
       "html": [
        "<div style=\"max-height:1000px;max-width:1500px;overflow:auto;\">\n",
        "<table border=\"1\" class=\"dataframe\">\n",
        "  <thead>\n",
        "    <tr style=\"text-align: right;\">\n",
        "      <th></th>\n",
        "      <th></th>\n",
        "      <th>anon</th>\n",
        "      <th>comment</th>\n",
        "      <th>parentid</th>\n",
        "      <th>revid</th>\n",
        "      <th>size</th>\n",
        "      <th>timestamp</th>\n",
        "      <th>user</th>\n",
        "      <th>userid</th>\n",
        "    </tr>\n",
        "    <tr>\n",
        "      <th>page</th>\n",
        "      <th>revision</th>\n",
        "      <th></th>\n",
        "      <th></th>\n",
        "      <th></th>\n",
        "      <th></th>\n",
        "      <th></th>\n",
        "      <th></th>\n",
        "      <th></th>\n",
        "      <th></th>\n",
        "    </tr>\n",
        "  </thead>\n",
        "  <tbody>\n",
        "    <tr>\n",
        "      <th rowspan=\"5\" valign=\"top\">Hillary Rodham Clinton</th>\n",
        "      <th>0</th>\n",
        "      <td> False</td>\n",
        "      <td>                               *</td>\n",
        "      <td>      0</td>\n",
        "      <td> 256189</td>\n",
        "      <td> 380</td>\n",
        "      <td>2001-08-01 20:21:17</td>\n",
        "      <td>    Koyaanis Qatsi</td>\n",
        "      <td> 90</td>\n",
        "    </tr>\n",
        "    <tr>\n",
        "      <th>1</th>\n",
        "      <td>  True</td>\n",
        "      <td> *added a bit on Hillary Clinton</td>\n",
        "      <td> 256189</td>\n",
        "      <td> 256190</td>\n",
        "      <td> 697</td>\n",
        "      <td>2001-12-07 01:58:07</td>\n",
        "      <td>   152.163.197.xxx</td>\n",
        "      <td>  0</td>\n",
        "    </tr>\n",
        "    <tr>\n",
        "      <th>2</th>\n",
        "      <td> False</td>\n",
        "      <td>            Took out the slander</td>\n",
        "      <td> 256190</td>\n",
        "      <td> 256191</td>\n",
        "      <td> 663</td>\n",
        "      <td>2001-12-07 02:14:20</td>\n",
        "      <td>         Paul Drye</td>\n",
        "      <td>  6</td>\n",
        "    </tr>\n",
        "    <tr>\n",
        "      <th>3</th>\n",
        "      <td>  True</td>\n",
        "      <td>            Automated conversion</td>\n",
        "      <td> 256191</td>\n",
        "      <td>  72270</td>\n",
        "      <td> 877</td>\n",
        "      <td>2002-02-25 15:51:15</td>\n",
        "      <td> Conversion script</td>\n",
        "      <td>  0</td>\n",
        "    </tr>\n",
        "    <tr>\n",
        "      <th>4</th>\n",
        "      <td>  True</td>\n",
        "      <td>                               *</td>\n",
        "      <td>  72270</td>\n",
        "      <td>  72271</td>\n",
        "      <td> 920</td>\n",
        "      <td>2002-05-18 16:37:57</td>\n",
        "      <td>    210.49.193.178</td>\n",
        "      <td>  0</td>\n",
        "    </tr>\n",
        "  </tbody>\n",
        "</table>\n",
        "</div>"
       ],
       "metadata": {},
       "output_type": "pyout",
       "prompt_number": 271,
       "text": [
        "                                  anon                          comment  \\\n",
        "page                   revision                                           \n",
        "Hillary Rodham Clinton 0         False                                *   \n",
        "                       1          True  *added a bit on Hillary Clinton   \n",
        "                       2         False             Took out the slander   \n",
        "                       3          True             Automated conversion   \n",
        "                       4          True                                *   \n",
        "\n",
        "                                 parentid   revid  size           timestamp  \\\n",
        "page                   revision                                               \n",
        "Hillary Rodham Clinton 0                0  256189   380 2001-08-01 20:21:17   \n",
        "                       1           256189  256190   697 2001-12-07 01:58:07   \n",
        "                       2           256190  256191   663 2001-12-07 02:14:20   \n",
        "                       3           256191   72270   877 2002-02-25 15:51:15   \n",
        "                       4            72270   72271   920 2002-05-18 16:37:57   \n",
        "\n",
        "                                              user  userid  \n",
        "page                   revision                             \n",
        "Hillary Rodham Clinton 0            Koyaanis Qatsi      90  \n",
        "                       1           152.163.197.xxx       0  \n",
        "                       2                 Paul Drye       6  \n",
        "                       3         Conversion script       0  \n",
        "                       4            210.49.193.178       0  "
       ]
      }
     ],
     "prompt_number": 271
    },
    {
     "cell_type": "heading",
     "level": 3,
     "metadata": {},
     "source": [
      "User activity"
     ]
    },
    {
     "cell_type": "markdown",
     "metadata": {},
     "source": [
      "We might be interested in looking at the most active editors over the history of the article. We can perform a `groupby` operation that effectively creates a mini-DataFrame for each user's revisions. We use the `aggregate` function to collection information (`len` gets us the number of revisions they made) across all these mini-DataFrames and returns a `Series` object with the username and the number of their revisions. Sorting these revisions is descending order and then look at the top-5 revisions, which exhibits variation over nearly two orders of magnitude."
     ]
    },
    {
     "cell_type": "code",
     "collapsed": false,
     "input": [
      "hrc_rv_gb_user = hrc_rv_df.groupby('user')\n",
      "hrc_user_revisions = hrc_rv_gb_user['revid'].aggregate(len).sort(ascending=False,inplace=False)\n",
      "print \"There are {0} unique users who have made a contribution to the article.\".format(len(hrc_user_revisions))\n",
      "hrc_user_revisions.head(10)"
     ],
     "language": "python",
     "metadata": {},
     "outputs": [
      {
       "output_type": "stream",
       "stream": "stdout",
       "text": [
        "There are 3567 unique users who have made a contribution to the article.\n"
       ]
      },
      {
       "metadata": {},
       "output_type": "pyout",
       "prompt_number": 272,
       "text": [
        "user\n",
        "Wasted Time R      2189\n",
        "LukeTH              656\n",
        "Tvoz                296\n",
        "K157                137\n",
        "Mark Miller          81\n",
        "Anythingyouwant      78\n",
        "StuffOfInterest      74\n",
        "Ohnoitsjamie         56\n",
        "Gamaliel             52\n",
        "Kelw                 48\n",
        "Name: revid, dtype: int64"
       ]
      }
     ],
     "prompt_number": 272
    },
    {
     "cell_type": "markdown",
     "metadata": {},
     "source": [
      "Given the wide variation among the number of contributions from users, we can create a kind of \"histogram\" that plots how many users made how many revisions. Because there is so much variation in the data, we use logged axes. In the upper left, there are several thousand editors who made only a single contribution. In the lower right, are the single editors listed above who made several hundred revisions to this article."
     ]
    },
    {
     "cell_type": "code",
     "collapsed": false,
     "input": [
      "revisions_counter = Counter(hrc_user_revisions.values)\n",
      "plt.scatter(revisions_counter.keys(),revisions_counter.values(),s=50)\n",
      "plt.ylabel('Number of users',fontsize=15)\n",
      "plt.xlabel('Number of revisions',fontsize=15)\n",
      "plt.yscale('log')\n",
      "plt.xscale('log')"
     ],
     "language": "python",
     "metadata": {},
     "outputs": [
      {
       "metadata": {},
       "output_type": "display_data",
       "png": "[encoded data removed]",
       "text": [
        "<matplotlib.figure.Figure at 0x23c3ca90>"
       ]
      }
     ],
     "prompt_number": 273
    },
    {
     "cell_type": "markdown",
     "metadata": {},
     "source": [
      "We'll add some information to the DataFrame about the cumulative number of unique users who've ever edited the article. This should give us a sense of how the size of the collaboration changed over time. Starting with empty lists for `unique_users` that we will add the names of users to as they make their first edit and `unique_count` that counts the number of unique users at each point in time. We add the `unique_count` list to the DataFrame under the `unique_users` column."
     ]
    },
    {
     "cell_type": "code",
     "collapsed": false,
     "input": [
      "def count_unique_users(user_series):\n",
      "    unique_users = []\n",
      "    unique_count = []\n",
      "    for user in user_series.values:\n",
      "        if user not in unique_users:\n",
      "            unique_users.append(user)\n",
      "            unique_count.append(len(unique_users))\n",
      "        else:\n",
      "            unique_count.append(unique_count[-1])\n",
      "    return unique_count\n",
      "        \n",
      "hrc_rv_df['unique_users'] = count_unique_users(hrc_rv_df['user'])"
     ],
     "language": "python",
     "metadata": {},
     "outputs": [],
     "prompt_number": 307
    },
    {
     "cell_type": "markdown",
     "metadata": {},
     "source": [
      "We can look at changes to the contribution patterns on the article over time. First we need to do some data processing to convert the timestamps into generic dates. Then we group the activity by date together and use aggregate to create a new DataFrame called `activity_by_day` that contains the number of unique users and number of revisions made on each day. Finally, plot the distribution of this activity over time. \n",
      "\n",
      "Looking at the blue line for the number of unique users, we see the collaboration is initially small through 2004, but then between 2005 and 2008 undergoes rapid growth from a few hundred editors to over 3,000 editors. After 2008 however, the number of new news grows much more slowly and constantly. This is somewhat surprising as this timeframe includes a number of historic events like Hillary's campaign for president in 2008 as well as her tenure as Secretary of State.\n",
      "\n",
      "Looking at the green line for the number of revisions made per day, there is a lot of variation in daily editing activity, but much of it seems to again occur between 2005 and 2009, and slows down substantially thereafter. Peaks might correspond to major news events (like nominations) or to edit wars (editors fighting over content)."
     ]
    },
    {
     "cell_type": "code",
     "collapsed": false,
     "input": [
      "hrc_rv_df['date'] = hrc_rv_df['timestamp'].apply(lambda x:x.date())\n",
      "activity_by_day = hrc_rv_df.groupby('date').aggregate({'unique_users':max,'revid':len})\n",
      "ax = activity_by_day.plot(lw=1,secondary_y=['revid'])\n",
      "ax.set_xlabel('Time',fontsize=15)"
     ],
     "language": "python",
     "metadata": {},
     "outputs": [
      {
       "metadata": {},
       "output_type": "pyout",
       "prompt_number": 275,
       "text": [
        "<matplotlib.text.Text at 0x2c58f5f8>"
       ]
      },
      {
       "metadata": {},
       "output_type": "display_data",
       "png": "[encoded data removed]",
       "text": [
        "<matplotlib.figure.Figure at 0x3a6bbc18>"
       ]
      }
     ],
     "prompt_number": 275
    },
    {
     "cell_type": "heading",
     "level": 3,
     "metadata": {},
     "source": [
      "Changes in article size"
     ]
    },
    {
     "cell_type": "markdown",
     "metadata": {},
     "source": [
      "We can also look at the distribution in changes to the article's size. In other words, how much content (in bytes) was introduced or removed from the article by an editor's changes? We see there is a very wide (axes are still on log scales) and mostly symmetrical distribution in additions and removals of content. In other words, the most frequent changes are extremely minor (-1 to 1 bytes) and the biggest changes (dozens of kilobytes) are very rare --- and likely the result of vandalism and reversion of vandalism. Nevertheless it's the case that this Wikipedia article's history is as much about the *removal* of content as it is about the *addition* of content."
     ]
    },
    {
     "cell_type": "code",
     "collapsed": false,
     "input": [
      "hrc_rv_df['diff'] = hrc_rv_df['size'].diff()\n",
      "diff_counter = Counter(hrc_rv_df['diff'].values)\n",
      "plt.scatter(diff_counter.keys(),diff_counter.values(),s=50,alpha=.1)\n",
      "plt.xlabel('Difference (bytes)',fontsize=15)\n",
      "plt.ylabel('Number of revisions',fontsize=15)\n",
      "plt.yscale('log')\n",
      "plt.xscale('symlog')"
     ],
     "language": "python",
     "metadata": {},
     "outputs": [
      {
       "metadata": {},
       "output_type": "display_data",
       "png": "[encoded data removed]",
       "text": [
        "<matplotlib.figure.Figure at 0x2916b828>"
       ]
      }
     ],
     "prompt_number": 276
    },
    {
     "cell_type": "markdown",
     "metadata": {},
     "source": [
      "Re-compute the `activity_by_day` DataFrame to include the `diff` variable computed above using the `np.median` method to get the median change in the article on a given day. Substantively, this means that we can track how much content was added or removed on each day. This is noisy, so we can smooth using `rolling_mean` and specifying a 60-day window. There's a general tendency for the articl to grow on any given day, but there are a few time periods when the article shrinks drastically, likely reflecting sections of an article being [split out](https://en.wikipedia.org/wiki/Wikipedia:Splitting) into sub-articles."
     ]
    },
    {
     "cell_type": "code",
     "collapsed": false,
     "input": [
      "activity_by_day = hrc_rv_df.groupby('date').aggregate({'unique_users':max,\n",
      "                                                       'revid':len,\n",
      "                                                       'diff':np.median})\n",
      "\n",
      "# Compute a 60-day rolling average to remove spikiness, plot\n",
      "pd.rolling_mean(activity_by_day['diff'],60).plot()\n",
      "plt.yscale('symlog')\n",
      "plt.xlabel('Time',fontsize=15)\n",
      "plt.ylabel('Difference (bytes)',fontsize=15)\n",
      "plt.axhline(0,lw=2,c='k')"
     ],
     "language": "python",
     "metadata": {},
     "outputs": [
      {
       "metadata": {},
       "output_type": "pyout",
       "prompt_number": 277,
       "text": [
        "<matplotlib.lines.Line2D at 0x2b78fd68>"
       ]
      },
      {
       "metadata": {},
       "output_type": "display_data",
       "png": "[encoded data removed]",
       "text": [
        "<matplotlib.figure.Figure at 0x2b78ff28>"
       ]
      }
     ],
     "prompt_number": 277
    },
    {
     "cell_type": "heading",
     "level": 3,
     "metadata": {},
     "source": [
      "Distribution of edit latencies"
     ]
    },
    {
     "cell_type": "markdown",
     "metadata": {},
     "source": [
      "We can also explore how long an edit persists on the article before another edit is subsequently made. The average edit only persists for ~34,500 seconds (~9.5 hours) but the median edit only persists for 881 seconds (~15 minutes)."
     ]
    },
    {
     "cell_type": "code",
     "collapsed": false,
     "input": [
      "# The diff returns timedeltas, but dividing by a 1-second timedelta returns a float\n",
      "# Round these numbers off to smooth out the distribution and add 1 second to everything to make the plot behave\n",
      "hrc_rv_df['latency'] = [round(i/np.timedelta64(1,'s'),-1) + 1 for i in hrc_rv_df['timestamp'].diff().values]\n",
      "diff_counter = Counter(hrc_rv_df['latency'].values)\n",
      "plt.scatter(diff_counter.keys(),diff_counter.values(),s=50,alpha=.1)\n",
      "plt.xlabel('Latency time (seconds)',fontsize=15)\n",
      "plt.ylabel('Number of changes',fontsize=15)\n",
      "plt.yscale('log')\n",
      "plt.xscale('log')"
     ],
     "language": "python",
     "metadata": {},
     "outputs": [
      {
       "metadata": {},
       "output_type": "display_data",
       "png": "[encoded data removed]",
       "text": [
        "<matplotlib.figure.Figure at 0x26717208>"
       ]
      }
     ],
     "prompt_number": 278
    },
    {
     "cell_type": "code",
     "collapsed": false,
     "input": [
      "hrc_rv_df['latency'].describe()"
     ],
     "language": "python",
     "metadata": {},
     "outputs": [
      {
       "metadata": {},
       "output_type": "pyout",
       "prompt_number": 279,
       "text": [
        "count       12045.000000\n",
        "mean        34469.446658\n",
        "std        216675.835396\n",
        "min             1.000000\n",
        "25%           141.000000\n",
        "50%           881.000000\n",
        "75%         13591.000000\n",
        "max      10993011.000000\n",
        "dtype: float64"
       ]
      }
     ],
     "prompt_number": 279
    },
    {
     "cell_type": "markdown",
     "metadata": {},
     "source": [
      "As we did above, we can recompute `activity_by_day` to include daily median changes in the latency between edits. There is substantial variation in how long edits persist. Again, the pre-2006 era is marked by content that goes days or weeks without changes, but between 2006 and 2009 the time between edits becomes much shorter, presumably corresponding with the attention around her presidential campaign. After 2008, the time between changes increases again and stabilizes at its (smoothed) current value of around 2 days between edits."
     ]
    },
    {
     "cell_type": "code",
     "collapsed": false,
     "input": [
      "activity_by_day = hrc_rv_df.groupby('date').aggregate({'unique_users':max,\n",
      "                                                       'revid':len,\n",
      "                                                       'diff':np.median,\n",
      "                                                       'latency':np.median})\n",
      "\n",
      "# Compute a 60-day rolling average to remove spikiness, plot\n",
      "pd.rolling_mean(activity_by_day['latency'],60).plot()\n",
      "plt.yscale('symlog')\n",
      "plt.xlabel('Time',fontsize=15)\n",
      "plt.ylabel('Latency time (seconds)',fontsize=15)"
     ],
     "language": "python",
     "metadata": {},
     "outputs": [
      {
       "metadata": {},
       "output_type": "pyout",
       "prompt_number": 280,
       "text": [
        "<matplotlib.text.Text at 0x2a1032e8>"
       ]
      },
      {
       "metadata": {},
       "output_type": "display_data",
       "png": "[encoded data removed]",
       "text": [
        "<matplotlib.figure.Figure at 0x2c599a20>"
       ]
      }
     ],
     "prompt_number": 280
    },
    {
     "cell_type": "heading",
     "level": 3,
     "metadata": {},
     "source": [
      "Co-authorship network"
     ]
    },
    {
     "cell_type": "markdown",
     "metadata": {},
     "source": [
      "We previously created a direct network of hyperlinks where the nodes were all articles and the edges indicated the direction of the link(s) between the central article and its neighbors. In this section, we're going to construct a different kind of network that contains a mixture of editors and articles and the edges indicate whether an editor contributed to an article. For simplicity's sake, we're going to start with the 1-step ego co-authorship network with the \"Hillary Rodham Clinton\" article and the set of editors who have ever made changes to it. Because there are two-types of nodes in this network (articles and editors) and editors can't edit editors and articles can't edit articles, we call this network a \"[bipartite network](https://en.wikipedia.org/wiki/Bipartite_graph)\" (also known as an \"affiliation\" or \"two-mode\" network).\n",
      "\n",
      "Even though bipartite networks are traditionally undirected, we're going to use a directed network because `NetworkX` does some wacky things when using an undirected network with bipartite properties. We're also going to make this a *weighted* network where the edges have values that correspond to the number of times an editor made a change to the article. This basically replicates the analysis we did above in \"User Activity\" but is an example of the information from the revision history that we might want to include in the network representation.\n",
      "\n",
      "We go over every user in the `user` column inside `hrc_rv_df` and first check whether or not a (`user`,\"Hillary Rodham Clinton\") edge exists. If one already exists, then we increment its `weight` attribute by 1. Otherwise if there is no such edge in the network, we add a (`user`,\"Hillary Rodham Clinton\") edge with a `weight` of 1. We can inspect five of the edges to make sure this worked."
     ]
    },
    {
     "cell_type": "code",
     "collapsed": false,
     "input": [
      "hrc_bg = nx.DiGraph()\n",
      "\n",
      "for user in hrc_rv_df['user'].values:\n",
      "    if hrc_bg.has_edge(user,u'Hillary Rodham Clinton'):\n",
      "        hrc_bg[user][u'Hillary Rodham Clinton']['weight'] += 1\n",
      "    else:\n",
      "        hrc_bg.add_edge(user,u'Hillary Rodham Clinton',weight=1)\n",
      "\n",
      "print \"There are {0} nodes and {1} edges in the network.\".format(hrc_bg.number_of_nodes(),hrc_bg.number_of_edges())\n",
      "\n",
      "hrc_bg.edges(data=True)[:5]"
     ],
     "language": "python",
     "metadata": {},
     "outputs": [
      {
       "output_type": "stream",
       "stream": "stdout",
       "text": [
        "There are 3568 nodes and 3567 edges in the network.\n"
       ]
      },
      {
       "metadata": {},
       "output_type": "pyout",
       "prompt_number": 289,
       "text": [
        "[(u'Mansfieldkelly', u'Hillary Rodham Clinton', {'weight': 7}),\n",
        " (u'12.173.64.204', u'Hillary Rodham Clinton', {'weight': 2}),\n",
        " (u'Ottava Rima', u'Hillary Rodham Clinton', {'weight': 2}),\n",
        " (u'JudithSouth', u'Hillary Rodham Clinton', {'weight': 1}),\n",
        " (u'Haroldandkumar', u'Hillary Rodham Clinton', {'weight': 2})]"
       ]
      }
     ],
     "prompt_number": 289
    },
    {
     "cell_type": "heading",
     "level": 1,
     "metadata": {},
     "source": [
      "Co-authorship network of the hyperlink neighborhood"
     ]
    },
    {
     "cell_type": "markdown",
     "metadata": {},
     "source": [
      "Based on everything we did in the previous analysis to query the revisions, reshape and clean up the data, and extract new features for analysis, we are now going to write a big function that does all of this automatically. The function `get_revision_df` will accept an article name, perform the query, and proceed to do many of the steps outlined above, and returns a cleaned DataFrame at the end."
     ]
    },
    {
     "cell_type": "code",
     "collapsed": false,
     "input": [
      "def get_revision_df(article):\n",
      "    revisions_query = {'action': 'query',\n",
      "                      'redirects': 'True',\n",
      "                      'prop': 'revisions',\n",
      "                      'titles': article,\n",
      "                      'rvprop': 'ids|user|timestamp|user|userid|comment|size',\n",
      "                      'rvlimit': '500',\n",
      "                      'rvdir': 'newer'}\n",
      "\n",
      "    revisions_data = wikipedia_query(revisions_query)\n",
      "    page_id = revisions_data['pages'].keys()[0]\n",
      "\n",
      "    # Extract and convert to DataFrame. Try/except for links to pages that don't exist\n",
      "    try:\n",
      "        df = pd.DataFrame(revisions_data['pages'][page_id]['revisions'])\n",
      "    except KeyError:\n",
      "        print u\"{0} doesn't exist!\".format(article)\n",
      "        pass\n",
      "\n",
      "    # Make it clear what's being edited\n",
      "    df['page'] = [article]*len(df)\n",
      "\n",
      "    # Clean up timestamps\n",
      "    df['timestamp'] = pd.to_datetime(df['timestamp'],format=\"%Y-%m-%dT%H:%M:%SZ\",unit='s')\n",
      "\n",
      "    # Clean up anon column. If/else for articles that have all non-anon editors\n",
      "    if 'anon' in df.columns:\n",
      "        df = df.replace({'anon':{np.nan:False,u'':True}})\n",
      "    else:\n",
      "        df['anon'] = [False] * len(df)\n",
      "\n",
      "    # Sort the data on timestamp and reset the index\n",
      "    df = df.sort('timestamp').reset_index(drop=True)\n",
      "    df.index.name = 'revision'\n",
      "    df = df.reset_index()\n",
      "\n",
      "    # Set the index to a MultiIndex\n",
      "    df.set_index(['page','revision'],inplace=True)\n",
      "    \n",
      "    # Compute additional features\n",
      "    df['date'] = df['timestamp'].apply(lambda x:x.date())\n",
      "    df['diff'] = df['size'].diff()\n",
      "    df['unique_users'] = count_unique_users(df['user'])\n",
      "    df['latency'] = [round(i/np.timedelta64(1,'s'),-1) + 1 for i in df['timestamp'].diff().values]\n",
      "    \n",
      "    # Don't return random other columns\n",
      "    df = df[[u'anon',u'comment',u'parentid',\n",
      "             u'revid',u'size',u'timestamp',\n",
      "             u'user',u'userid',u'unique_users',\n",
      "             u'date', u'diff', u'latency']]\n",
      "    \n",
      "    return df"
     ],
     "language": "python",
     "metadata": {},
     "outputs": [],
     "prompt_number": 39
    },
    {
     "cell_type": "markdown",
     "metadata": {},
     "source": [
      "Try this out on \"Bill Clinton\"."
     ]
    },
    {
     "cell_type": "code",
     "collapsed": false,
     "input": [
      "bc_rv_df = get_revision_df(\"Bill Clinton\")\n",
      "bc_rv_df.head()"
     ],
     "language": "python",
     "metadata": {},
     "outputs": [
      {
       "output_type": "stream",
       "stream": "stdout",
       "text": [
        "Server lag, sleeping for 6 seconds\n"
       ]
      },
      {
       "ename": "NameError",
       "evalue": "global name 'count_unique_users' is not defined",
       "output_type": "pyerr",
       "traceback": [
        "\u001b[0;31m---------------------------------------------------------------------------\u001b[0m\n\u001b[0;31mNameError\u001b[0m                                 Traceback (most recent call last)",
        "\u001b[0;32m<ipython-input-79-39fe8fbb441e>\u001b[0m in \u001b[0;36m<module>\u001b[0;34m()\u001b[0m\n\u001b[0;32m----> 1\u001b[0;31m \u001b[0mbc_rv_df\u001b[0m \u001b[0;34m=\u001b[0m \u001b[0mget_revision_df\u001b[0m\u001b[0;34m(\u001b[0m\u001b[0;34m\"Bill Clinton\"\u001b[0m\u001b[0;34m)\u001b[0m\u001b[0;34m\u001b[0m\u001b[0m\n\u001b[0m\u001b[1;32m      2\u001b[0m \u001b[0mbc_rv_df\u001b[0m\u001b[0;34m.\u001b[0m\u001b[0mhead\u001b[0m\u001b[0;34m(\u001b[0m\u001b[0;34m)\u001b[0m\u001b[0;34m\u001b[0m\u001b[0m\n",
        "\u001b[0;32m<ipython-input-39-f79189062d9b>\u001b[0m in \u001b[0;36mget_revision_df\u001b[0;34m(article)\u001b[0m\n\u001b[1;32m     41\u001b[0m     \u001b[0mdf\u001b[0m\u001b[0;34m[\u001b[0m\u001b[0;34m'date'\u001b[0m\u001b[0;34m]\u001b[0m \u001b[0;34m=\u001b[0m \u001b[0mdf\u001b[0m\u001b[0;34m[\u001b[0m\u001b[0;34m'timestamp'\u001b[0m\u001b[0;34m]\u001b[0m\u001b[0;34m.\u001b[0m\u001b[0mapply\u001b[0m\u001b[0;34m(\u001b[0m\u001b[0;32mlambda\u001b[0m \u001b[0mx\u001b[0m\u001b[0;34m:\u001b[0m\u001b[0mx\u001b[0m\u001b[0;34m.\u001b[0m\u001b[0mdate\u001b[0m\u001b[0;34m(\u001b[0m\u001b[0;34m)\u001b[0m\u001b[0;34m)\u001b[0m\u001b[0;34m\u001b[0m\u001b[0m\n\u001b[1;32m     42\u001b[0m     \u001b[0mdf\u001b[0m\u001b[0;34m[\u001b[0m\u001b[0;34m'diff'\u001b[0m\u001b[0;34m]\u001b[0m \u001b[0;34m=\u001b[0m \u001b[0mdf\u001b[0m\u001b[0;34m[\u001b[0m\u001b[0;34m'size'\u001b[0m\u001b[0;34m]\u001b[0m\u001b[0;34m.\u001b[0m\u001b[0mdiff\u001b[0m\u001b[0;34m(\u001b[0m\u001b[0;34m)\u001b[0m\u001b[0;34m\u001b[0m\u001b[0m\n\u001b[0;32m---> 43\u001b[0;31m     \u001b[0mdf\u001b[0m\u001b[0;34m[\u001b[0m\u001b[0;34m'unique_users'\u001b[0m\u001b[0;34m]\u001b[0m \u001b[0;34m=\u001b[0m \u001b[0mcount_unique_users\u001b[0m\u001b[0;34m(\u001b[0m\u001b[0mdf\u001b[0m\u001b[0;34m[\u001b[0m\u001b[0;34m'user'\u001b[0m\u001b[0;34m]\u001b[0m\u001b[0;34m)\u001b[0m\u001b[0;34m\u001b[0m\u001b[0m\n\u001b[0m\u001b[1;32m     44\u001b[0m     \u001b[0mdf\u001b[0m\u001b[0;34m[\u001b[0m\u001b[0;34m'latency'\u001b[0m\u001b[0;34m]\u001b[0m \u001b[0;34m=\u001b[0m \u001b[0;34m[\u001b[0m\u001b[0mround\u001b[0m\u001b[0;34m(\u001b[0m\u001b[0mi\u001b[0m\u001b[0;34m/\u001b[0m\u001b[0mnp\u001b[0m\u001b[0;34m.\u001b[0m\u001b[0mtimedelta64\u001b[0m\u001b[0;34m(\u001b[0m\u001b[0;36m1\u001b[0m\u001b[0;34m,\u001b[0m\u001b[0;34m's'\u001b[0m\u001b[0;34m)\u001b[0m\u001b[0;34m,\u001b[0m\u001b[0;34m-\u001b[0m\u001b[0;36m1\u001b[0m\u001b[0;34m)\u001b[0m \u001b[0;34m+\u001b[0m \u001b[0;36m1\u001b[0m \u001b[0;32mfor\u001b[0m \u001b[0mi\u001b[0m \u001b[0;32min\u001b[0m \u001b[0mdf\u001b[0m\u001b[0;34m[\u001b[0m\u001b[0;34m'timestamp'\u001b[0m\u001b[0;34m]\u001b[0m\u001b[0;34m.\u001b[0m\u001b[0mdiff\u001b[0m\u001b[0;34m(\u001b[0m\u001b[0;34m)\u001b[0m\u001b[0;34m.\u001b[0m\u001b[0mvalues\u001b[0m\u001b[0;34m]\u001b[0m\u001b[0;34m\u001b[0m\u001b[0m\n\u001b[1;32m     45\u001b[0m \u001b[0;34m\u001b[0m\u001b[0m\n",
        "\u001b[0;31mNameError\u001b[0m: global name 'count_unique_users' is not defined"
       ]
      }
     ],
     "prompt_number": 79
    },
    {
     "cell_type": "markdown",
     "metadata": {},
     "source": [
      "We've created a DataFrame for both Hillary's revision history (`hrc_rv_df`) as well as Bill's revision history (`bc_df`). We can now combine both of these together (cross your fingers!!!) using the `concat` method. We can check to make sure that they both made it into the dataframe by checking the first level of the `index` and we see they're both there. We also save all the data we've scraped and cleaned to disk --- the resulting file takes up just under 5 MB."
     ]
    },
    {
     "cell_type": "code",
     "collapsed": false,
     "input": [
      "clinton_df = pd.concat([bc_rv_df,hrc_rv_df])\n",
      "\n",
      "print clinton_df.index.levels[0]\n",
      "print \"There are a total of {0} revisions across both the Hillary and Bill Clinton articles.\".format(len(clinton_df))\n",
      "\n",
      "clinton_df.to_csv('clinton_revisions.csv',encoding='utf8')"
     ],
     "language": "python",
     "metadata": {},
     "outputs": [
      {
       "output_type": "stream",
       "stream": "stdout",
       "text": [
        "Index([u'Bill Clinton', u'Hillary Rodham Clinton'], dtype='object')\n",
        "There are a total of 26952 revisions across both the Hillary and Bill Clinton articles.\n"
       ]
      }
     ],
     "prompt_number": 321
    },
    {
     "cell_type": "heading",
     "level": 3,
     "metadata": {},
     "source": [
      "Clinton co-authorship network"
     ]
    },
    {
     "cell_type": "markdown",
     "metadata": {},
     "source": [
      "We are going to use these data to create a coauthorship network of all the editors who contributed to both these articles. If we've already crawled this data, we can just load it from disk, specifying options to make sure we have the right encoding, the columns are properly indexed, and the dates are parsed."
     ]
    },
    {
     "cell_type": "code",
     "collapsed": false,
     "input": [
      "clinton_df = pd.read_csv('clinton_revisions.csv',\n",
      "                          encoding='utf8',\n",
      "                          index_col=['page','revision'],\n",
      "                          parse_dates=['timestamp','date'])\n",
      "clinton_df.head()"
     ],
     "language": "python",
     "metadata": {},
     "outputs": [
      {
       "html": [
        "<div style=\"max-height:1000px;max-width:1500px;overflow:auto;\">\n",
        "<table border=\"1\" class=\"dataframe\">\n",
        "  <thead>\n",
        "    <tr style=\"text-align: right;\">\n",
        "      <th></th>\n",
        "      <th></th>\n",
        "      <th>anon</th>\n",
        "      <th>comment</th>\n",
        "      <th>parentid</th>\n",
        "      <th>revid</th>\n",
        "      <th>size</th>\n",
        "      <th>timestamp</th>\n",
        "      <th>user</th>\n",
        "      <th>userid</th>\n",
        "      <th>unique_users</th>\n",
        "      <th>date</th>\n",
        "      <th>diff</th>\n",
        "      <th>latency</th>\n",
        "    </tr>\n",
        "    <tr>\n",
        "      <th>page</th>\n",
        "      <th>revision</th>\n",
        "      <th></th>\n",
        "      <th></th>\n",
        "      <th></th>\n",
        "      <th></th>\n",
        "      <th></th>\n",
        "      <th></th>\n",
        "      <th></th>\n",
        "      <th></th>\n",
        "      <th></th>\n",
        "      <th></th>\n",
        "      <th></th>\n",
        "      <th></th>\n",
        "    </tr>\n",
        "  </thead>\n",
        "  <tbody>\n",
        "    <tr>\n",
        "      <th rowspan=\"5\" valign=\"top\">Bill Clinton</th>\n",
        "      <th>0</th>\n",
        "      <td> True</td>\n",
        "      <td>                              builing -&gt; building*</td>\n",
        "      <td> 330742655</td>\n",
        "      <td> 331410539</td>\n",
        "      <td> 6851</td>\n",
        "      <td>2001-10-26 16:25:00</td>\n",
        "      <td>  212.188.19.xxx</td>\n",
        "      <td> 0</td>\n",
        "      <td> 1</td>\n",
        "      <td>2001-10-26</td>\n",
        "      <td> NaN</td>\n",
        "      <td>     NaN</td>\n",
        "    </tr>\n",
        "    <tr>\n",
        "      <th>1</th>\n",
        "      <td> True</td>\n",
        "      <td>                                                 *</td>\n",
        "      <td> 331410539</td>\n",
        "      <td>    238014</td>\n",
        "      <td> 7006</td>\n",
        "      <td>2001-11-17 22:51:50</td>\n",
        "      <td>         Wmorrow</td>\n",
        "      <td> 0</td>\n",
        "      <td> 2</td>\n",
        "      <td>2001-11-17</td>\n",
        "      <td> 155</td>\n",
        "      <td> 1924011</td>\n",
        "    </tr>\n",
        "    <tr>\n",
        "      <th>2</th>\n",
        "      <td> True</td>\n",
        "      <td>                                                 *</td>\n",
        "      <td>    238014</td>\n",
        "      <td>    238015</td>\n",
        "      <td> 7046</td>\n",
        "      <td>2001-12-08 22:14:42</td>\n",
        "      <td> 208.144.114.xxx</td>\n",
        "      <td> 0</td>\n",
        "      <td> 3</td>\n",
        "      <td>2001-12-08</td>\n",
        "      <td>  40</td>\n",
        "      <td> 1812171</td>\n",
        "    </tr>\n",
        "    <tr>\n",
        "      <th>3</th>\n",
        "      <td> True</td>\n",
        "      <td> brady bill, partial birth abortion veto, DOMA ...</td>\n",
        "      <td>    238015</td>\n",
        "      <td>    238016</td>\n",
        "      <td> 7317</td>\n",
        "      <td>2001-12-09 03:01:09</td>\n",
        "      <td>          Alan_D</td>\n",
        "      <td> 0</td>\n",
        "      <td> 4</td>\n",
        "      <td>2001-12-09</td>\n",
        "      <td> 271</td>\n",
        "      <td>   17191</td>\n",
        "    </tr>\n",
        "    <tr>\n",
        "      <th>4</th>\n",
        "      <td> True</td>\n",
        "      <td>                      DADT was implemented in 1993</td>\n",
        "      <td>    238016</td>\n",
        "      <td>    238017</td>\n",
        "      <td> 7323</td>\n",
        "      <td>2001-12-09 08:15:36</td>\n",
        "      <td>        Dmerrill</td>\n",
        "      <td> 0</td>\n",
        "      <td> 5</td>\n",
        "      <td>2001-12-09</td>\n",
        "      <td>   6</td>\n",
        "      <td>   18871</td>\n",
        "    </tr>\n",
        "  </tbody>\n",
        "</table>\n",
        "</div>"
       ],
       "metadata": {},
       "output_type": "pyout",
       "prompt_number": 41,
       "text": [
        "                       anon  \\\n",
        "page         revision         \n",
        "Bill Clinton 0         True   \n",
        "             1         True   \n",
        "             2         True   \n",
        "             3         True   \n",
        "             4         True   \n",
        "\n",
        "                                                                 comment  \\\n",
        "page         revision                                                      \n",
        "Bill Clinton 0                                      builing -> building*   \n",
        "             1                                                         *   \n",
        "             2                                                         *   \n",
        "             3         brady bill, partial birth abortion veto, DOMA ...   \n",
        "             4                              DADT was implemented in 1993   \n",
        "\n",
        "                        parentid      revid  size           timestamp  \\\n",
        "page         revision                                                   \n",
        "Bill Clinton 0         330742655  331410539  6851 2001-10-26 16:25:00   \n",
        "             1         331410539     238014  7006 2001-11-17 22:51:50   \n",
        "             2            238014     238015  7046 2001-12-08 22:14:42   \n",
        "             3            238015     238016  7317 2001-12-09 03:01:09   \n",
        "             4            238016     238017  7323 2001-12-09 08:15:36   \n",
        "\n",
        "                                  user  userid  unique_users       date  diff  \\\n",
        "page         revision                                                           \n",
        "Bill Clinton 0          212.188.19.xxx       0             1 2001-10-26   NaN   \n",
        "             1                 Wmorrow       0             2 2001-11-17   155   \n",
        "             2         208.144.114.xxx       0             3 2001-12-08    40   \n",
        "             3                  Alan_D       0             4 2001-12-09   271   \n",
        "             4                Dmerrill       0             5 2001-12-09     6   \n",
        "\n",
        "                       latency  \n",
        "page         revision           \n",
        "Bill Clinton 0             NaN  \n",
        "             1         1924011  \n",
        "             2         1812171  \n",
        "             3           17191  \n",
        "             4           18871  "
       ]
      }
     ],
     "prompt_number": 41
    },
    {
     "cell_type": "markdown",
     "metadata": {},
     "source": [
      "We want to create an \"edgelist\" that contains all the (`editor`, `article`) pairs of who contributed to which articles. This could by done by looping over the list, but this is inefficient on larger datasets like the one we crawled. Instead, we'll use a `groupby` approach to not only count the number of times an editor contributed to an article (the `weight` we defined previous), but a whole host of other potentially interesting attributes.\n",
      "\n",
      "We use the `agg` method on the data that's been grouped by `page` and `user` to aggregate the information into nice summary statistics. We count the number of revisions using `len` and relabel this variable `weight`. For the `timestamp`, `diff`, `latency`, and `revision` variables, we compute new summary statistics for the minimum, median, and maximum values. This operation returns a new DataFrame, indexed by (`page`, `user`) with columns corresponding to labels like `weight`, `ts_min`, etc. Each row in this DataFrame will become attributes in the graph object we make below. This operation creates a weird multi-column, so we drop the redundant 0-level of the column to have a nice concise column.\n",
      "\n",
      "We're going to do something different to the `timestamp` data because these data are stored as `Timestamp` objects that don't always place nicely with other functions. Instead, we're going to convert these data to counts for the amount of time (in days) since January 16, 2001, the date that Wikipedia was founded. In effect, we're counting how \"old\" Wikipedia was when an action occurred and this `float` count will work better in subsequent steps."
     ]
    },
    {
     "cell_type": "code",
     "collapsed": false,
     "input": [
      "clinton_gb_edge = clinton_df.reset_index().groupby(['page','user'])\n",
      "clinton_edgelist = clinton_gb_edge.agg({'revid':{'weight':len},\n",
      "                                        'timestamp':{'ts_min':np.min,'ts_max':np.max},\n",
      "                                        'diff':{'diff_min':np.min,'diff_median':np.median,'diff_max':np.max},\n",
      "                                        'latency':{'latency_min':np.min,'latency_median':np.median,'latency_max':np.max},\n",
      "                                        'revision':{'revision_min':np.min,'revision_max':np.max}\n",
      "                                        })\n",
      "\n",
      "# Drop the legacy/redundant column names\n",
      "clinton_edgelist.columns = clinton_edgelist.columns.droplevel(0)\n",
      "\n",
      "# Convert the ts_min and ts_max to floats for the number of days since Wikipedia was founded\n",
      "clinton_edgelist['ts_min'] = (clinton_edgelist['ts_min'] - pd.Timestamp('2001-1-16'))/np.timedelta64(1,'D')\n",
      "clinton_edgelist['ts_max'] = (clinton_edgelist['ts_max'] - pd.Timestamp('2001-1-16'))/np.timedelta64(1,'D')\n",
      "\n",
      "clinton_edgelist.head()"
     ],
     "language": "python",
     "metadata": {},
     "outputs": [
      {
       "html": [
        "<div style=\"max-height:1000px;max-width:1500px;overflow:auto;\">\n",
        "<table border=\"1\" class=\"dataframe\">\n",
        "  <thead>\n",
        "    <tr style=\"text-align: right;\">\n",
        "      <th></th>\n",
        "      <th></th>\n",
        "      <th>ts_min</th>\n",
        "      <th>ts_max</th>\n",
        "      <th>revision_min</th>\n",
        "      <th>revision_max</th>\n",
        "      <th>weight</th>\n",
        "      <th>latency_min</th>\n",
        "      <th>latency_median</th>\n",
        "      <th>latency_max</th>\n",
        "      <th>diff_median</th>\n",
        "      <th>diff_max</th>\n",
        "      <th>diff_min</th>\n",
        "    </tr>\n",
        "    <tr>\n",
        "      <th>page</th>\n",
        "      <th>user</th>\n",
        "      <th></th>\n",
        "      <th></th>\n",
        "      <th></th>\n",
        "      <th></th>\n",
        "      <th></th>\n",
        "      <th></th>\n",
        "      <th></th>\n",
        "      <th></th>\n",
        "      <th></th>\n",
        "      <th></th>\n",
        "      <th></th>\n",
        "    </tr>\n",
        "  </thead>\n",
        "  <tbody>\n",
        "    <tr>\n",
        "      <th rowspan=\"5\" valign=\"top\">Bill Clinton</th>\n",
        "      <th>00666</th>\n",
        "      <td> 2083.873866</td>\n",
        "      <td> 2083.941644</td>\n",
        "      <td>  9970</td>\n",
        "      <td>  9972</td>\n",
        "      <td> 3</td>\n",
        "      <td>  1551</td>\n",
        "      <td>  3751</td>\n",
        "      <td>  4311</td>\n",
        "      <td>     0.0</td>\n",
        "      <td>  5072</td>\n",
        "      <td>-72</td>\n",
        "    </tr>\n",
        "    <tr>\n",
        "      <th>1.21 jigwatts</th>\n",
        "      <td> 2336.214977</td>\n",
        "      <td> 2903.078646</td>\n",
        "      <td> 11337</td>\n",
        "      <td> 12762</td>\n",
        "      <td> 2</td>\n",
        "      <td>   211</td>\n",
        "      <td> 10951</td>\n",
        "      <td> 21691</td>\n",
        "      <td> 47380.0</td>\n",
        "      <td> 94780</td>\n",
        "      <td>-20</td>\n",
        "    </tr>\n",
        "    <tr>\n",
        "      <th>100110100</th>\n",
        "      <td> 2098.175683</td>\n",
        "      <td> 2098.207037</td>\n",
        "      <td> 10096</td>\n",
        "      <td> 10101</td>\n",
        "      <td> 6</td>\n",
        "      <td>    31</td>\n",
        "      <td>   656</td>\n",
        "      <td> 42181</td>\n",
        "      <td>    -0.5</td>\n",
        "      <td>    23</td>\n",
        "      <td>-33</td>\n",
        "    </tr>\n",
        "    <tr>\n",
        "      <th>108.18.185.163</th>\n",
        "      <td> 3483.056007</td>\n",
        "      <td> 3483.056007</td>\n",
        "      <td> 13668</td>\n",
        "      <td> 13668</td>\n",
        "      <td> 1</td>\n",
        "      <td> 41581</td>\n",
        "      <td> 41581</td>\n",
        "      <td> 41581</td>\n",
        "      <td>     4.0</td>\n",
        "      <td>     4</td>\n",
        "      <td>  4</td>\n",
        "    </tr>\n",
        "    <tr>\n",
        "      <th>10shistory</th>\n",
        "      <td> 1861.760359</td>\n",
        "      <td> 1864.803692</td>\n",
        "      <td>  5663</td>\n",
        "      <td>  5676</td>\n",
        "      <td> 2</td>\n",
        "      <td>   461</td>\n",
        "      <td> 29186</td>\n",
        "      <td> 57911</td>\n",
        "      <td>    56.0</td>\n",
        "      <td>   124</td>\n",
        "      <td>-12</td>\n",
        "    </tr>\n",
        "  </tbody>\n",
        "</table>\n",
        "</div>"
       ],
       "metadata": {},
       "output_type": "pyout",
       "prompt_number": 43,
       "text": [
        "                                  ts_min       ts_max  revision_min  \\\n",
        "page         user                                                     \n",
        "Bill Clinton 00666           2083.873866  2083.941644          9970   \n",
        "             1.21 jigwatts   2336.214977  2903.078646         11337   \n",
        "             100110100       2098.175683  2098.207037         10096   \n",
        "             108.18.185.163  3483.056007  3483.056007         13668   \n",
        "             10shistory      1861.760359  1864.803692          5663   \n",
        "\n",
        "                             revision_max  weight  latency_min  \\\n",
        "page         user                                                \n",
        "Bill Clinton 00666                   9972       3         1551   \n",
        "             1.21 jigwatts          12762       2          211   \n",
        "             100110100              10101       6           31   \n",
        "             108.18.185.163         13668       1        41581   \n",
        "             10shistory              5676       2          461   \n",
        "\n",
        "                             latency_median  latency_max  diff_median  \\\n",
        "page         user                                                       \n",
        "Bill Clinton 00666                     3751         4311          0.0   \n",
        "             1.21 jigwatts            10951        21691      47380.0   \n",
        "             100110100                  656        42181         -0.5   \n",
        "             108.18.185.163           41581        41581          4.0   \n",
        "             10shistory               29186        57911         56.0   \n",
        "\n",
        "                             diff_max  diff_min  \n",
        "page         user                                \n",
        "Bill Clinton 00666               5072       -72  \n",
        "             1.21 jigwatts      94780       -20  \n",
        "             100110100             23       -33  \n",
        "             108.18.185.163         4         4  \n",
        "             10shistory           124       -12  "
       ]
      }
     ],
     "prompt_number": 43
    },
    {
     "cell_type": "markdown",
     "metadata": {},
     "source": [
      "The nodes in this bipartite network also have attributes we can extract from the data. Remember, because this is a bipartite network, we'll need to generate attribute data for both the users and the pages. We can perform an analogous `groupby` operation as we used above, but simply group on either the `user` or the `page` values. After each of these `groupby` operations, we can perform similar `agg` operations to aggregate the data into summary statistics. In the case of the user, these summary statistics are across all articles in the data. Thus the `clinton_usernodelist` summarizes how many total edits a *user* made, their first and last observed edits, and the distribution of their `diff`, `latency`, and `revision` statistics. The `clinton_pagenodelist` summarizes how many total edits were made to the *page*, the date of the first and last edit, and so on."
     ]
    },
    {
     "cell_type": "code",
     "collapsed": false,
     "input": [
      "# Create the usernodelist by grouping on user and aggregating\n",
      "clinton_gb_user = clinton_df.reset_index().groupby(['user'])\n",
      "clinton_usernodelist = clinton_gb_user.agg({'revid':{'revisions':len},\n",
      "                                            'timestamp':{'ts_min':np.min,'ts_max':np.max},\n",
      "                                            'diff':{'diff_min':np.min,'diff_median':np.median,'diff_max':np.max},\n",
      "                                            'latency':{'latency_min':np.min,'latency_median':np.median,'latency_max':np.max},\n",
      "                                            'revision':{'revision_min':np.min,'revision_median':np.median,'revision_max':np.max}\n",
      "                                            })\n",
      "\n",
      "# Clean up the columns and convert the timestamps to counts\n",
      "clinton_usernodelist.columns = clinton_usernodelist.columns.droplevel(0)\n",
      "clinton_usernodelist['ts_min'] = (clinton_usernodelist['ts_min'] - pd.Timestamp('2001-1-16'))/np.timedelta64(1,'D')\n",
      "clinton_usernodelist['ts_max'] = (clinton_usernodelist['ts_max'] - pd.Timestamp('2001-1-16'))/np.timedelta64(1,'D')\n",
      "\n",
      "\n",
      "# Create the usernodelist by grouping on page and aggregating\n",
      "clinton_gb_page = clinton_df.reset_index().groupby(['page'])\n",
      "clinton_pagenodelist = clinton_gb_page.agg({'revid':{'revisions':len},\n",
      "                                            'timestamp':{'ts_min':np.min,'ts_max':np.max},\n",
      "                                            'diff':{'diff_min':np.min,'diff_median':np.median,'diff_max':np.max},\n",
      "                                            'latency':{'latency_min':np.min,'latency_median':np.median,'latency_max':np.max},\n",
      "                                            'revision':{'revision_min':np.min,'revision_median':np.median,'revision_max':np.max}\n",
      "                                            })\n",
      "\n",
      "# Clean up the columns and convert the timestamps to counts\n",
      "clinton_pagenodelist.columns = clinton_pagenodelist.columns.droplevel(0)\n",
      "clinton_pagenodelist['ts_min'] = (clinton_pagenodelist['ts_min'] - pd.Timestamp('2001-1-16'))/np.timedelta64(1,'D')\n",
      "clinton_pagenodelist['ts_max'] = (clinton_pagenodelist['ts_max'] - pd.Timestamp('2001-1-16'))/np.timedelta64(1,'D')\n",
      "\n",
      "clinton_pagenodelist.head()"
     ],
     "language": "python",
     "metadata": {},
     "outputs": [
      {
       "html": [
        "<div style=\"max-height:1000px;max-width:1500px;overflow:auto;\">\n",
        "<table border=\"1\" class=\"dataframe\">\n",
        "  <thead>\n",
        "    <tr style=\"text-align: right;\">\n",
        "      <th></th>\n",
        "      <th>ts_min</th>\n",
        "      <th>ts_max</th>\n",
        "      <th>revision_min</th>\n",
        "      <th>revision_max</th>\n",
        "      <th>revision_median</th>\n",
        "      <th>revisions</th>\n",
        "      <th>latency_min</th>\n",
        "      <th>latency_median</th>\n",
        "      <th>latency_max</th>\n",
        "      <th>diff_median</th>\n",
        "      <th>diff_max</th>\n",
        "      <th>diff_min</th>\n",
        "    </tr>\n",
        "    <tr>\n",
        "      <th>page</th>\n",
        "      <th></th>\n",
        "      <th></th>\n",
        "      <th></th>\n",
        "      <th></th>\n",
        "      <th></th>\n",
        "      <th></th>\n",
        "      <th></th>\n",
        "      <th></th>\n",
        "      <th></th>\n",
        "      <th></th>\n",
        "      <th></th>\n",
        "      <th></th>\n",
        "    </tr>\n",
        "  </thead>\n",
        "  <tbody>\n",
        "    <tr>\n",
        "      <th>Bill Clinton</th>\n",
        "      <td> 283.684028</td>\n",
        "      <td> 5008.568900</td>\n",
        "      <td> 0</td>\n",
        "      <td> 14905</td>\n",
        "      <td> 7452.5</td>\n",
        "      <td> 14906</td>\n",
        "      <td> 1</td>\n",
        "      <td> 891</td>\n",
        "      <td>  6267951</td>\n",
        "      <td> 1</td>\n",
        "      <td>  417533</td>\n",
        "      <td> -417533</td>\n",
        "    </tr>\n",
        "    <tr>\n",
        "      <th>Hillary Rodham Clinton</th>\n",
        "      <td> 197.848113</td>\n",
        "      <td> 5003.015405</td>\n",
        "      <td> 0</td>\n",
        "      <td> 12045</td>\n",
        "      <td> 6022.5</td>\n",
        "      <td> 12046</td>\n",
        "      <td> 1</td>\n",
        "      <td> 881</td>\n",
        "      <td> 10993011</td>\n",
        "      <td> 3</td>\n",
        "      <td> 1878770</td>\n",
        "      <td>-1878770</td>\n",
        "    </tr>\n",
        "  </tbody>\n",
        "</table>\n",
        "</div>"
       ],
       "metadata": {},
       "output_type": "pyout",
       "prompt_number": 44,
       "text": [
        "                            ts_min       ts_max  revision_min  revision_max  \\\n",
        "page                                                                          \n",
        "Bill Clinton            283.684028  5008.568900             0         14905   \n",
        "Hillary Rodham Clinton  197.848113  5003.015405             0         12045   \n",
        "\n",
        "                        revision_median  revisions  latency_min  \\\n",
        "page                                                              \n",
        "Bill Clinton                     7452.5      14906            1   \n",
        "Hillary Rodham Clinton           6022.5      12046            1   \n",
        "\n",
        "                        latency_median  latency_max  diff_median  diff_max  \\\n",
        "page                                                                         \n",
        "Bill Clinton                       891      6267951            1    417533   \n",
        "Hillary Rodham Clinton             881     10993011            3   1878770   \n",
        "\n",
        "                        diff_min  \n",
        "page                              \n",
        "Bill Clinton             -417533  \n",
        "Hillary Rodham Clinton  -1878770  "
       ]
      }
     ],
     "prompt_number": 44
    },
    {
     "cell_type": "markdown",
     "metadata": {},
     "source": [
      "Now that we've created all this rich contextual data about edges, pages, and editors, we can load it all into a `NetworkX` `DiGraph` object called `clinton_g`. We start by looping over the index in the `clinton_edgelist` dataframe that corresponds to the edges in the network, convert the edge attributes to a dictionary for `NetworkX` to better digest, and then add this edge and all its data to the `clinton_g` graph object. This creates placeholder nodes, but we want to add the rich node data we created above as well. We can loop over the `clinton_usernodelist`, convert the node attributes to a dictionary, and then overwrite the placeholder nodes by adding the data-rich user nodes to the `clinton_g` graph object. We do the same for the `clinton_pagenodelist`, then check the number of nodes and edges in the network, and finally print out a few examples of the data-rich nodes and edges."
     ]
    },
    {
     "cell_type": "code",
     "collapsed": false,
     "input": [
      "clinton_g = nx.DiGraph()\n",
      "# Add the edges and edge attributes\n",
      "for (article,editor) in iter(clinton_edgelist.index.values):\n",
      "    edge_attributes = dict(clinton_edgelist.ix[(article,editor)])\n",
      "    clinton_g.add_edge(editor,article,edge_attributes)\n",
      "\n",
      "# Add the user nodes and attributes\n",
      "for node in iter(clinton_usernodelist.index):\n",
      "    node_attributes = dict(clinton_usernodelist.ix[node])\n",
      "    clinton_g.add_node(node,node_attributes)\n",
      "\n",
      "# Add the page nodes and attributes\n",
      "for node in iter(clinton_pagenodelist.index):\n",
      "    node_attributes = dict(clinton_pagenodelist.ix[node])\n",
      "    clinton_g.add_node(node,node_attributes)\n",
      "    \n",
      "print \"There are {0} nodes and {1} edges in the network.\".format(clinton_g.number_of_nodes(),clinton_g.number_of_edges())\n",
      "\n",
      "clinton_g.edges(data=True)[:3]"
     ],
     "language": "python",
     "metadata": {},
     "outputs": [
      {
       "output_type": "stream",
       "stream": "stdout",
       "text": [
        "There are 8539 nodes and 9270 edges in the network.\n"
       ]
      },
      {
       "metadata": {},
       "output_type": "pyout",
       "prompt_number": 45,
       "text": [
        "[(u'Mansfieldkelly',\n",
        "  u'Hillary Rodham Clinton',\n",
        "  {'diff_max': 9285.0,\n",
        "   'diff_median': 218.0,\n",
        "   'diff_min': 29.0,\n",
        "   'latency_max': 106201.0,\n",
        "   'latency_median': 121.0,\n",
        "   'latency_min': 21.0,\n",
        "   'revision_max': 6392.0,\n",
        "   'revision_min': 6381.0,\n",
        "   'ts_max': 2307.2359837962963,\n",
        "   'ts_min': 2307.2230671296297,\n",
        "   'weight': 7.0}),\n",
        " (u'JJGlendenning',\n",
        "  u'Bill Clinton',\n",
        "  {'diff_max': 199.0,\n",
        "   'diff_median': 3.0,\n",
        "   'diff_min': 0.0,\n",
        "   'latency_max': 74931.0,\n",
        "   'latency_median': 641.0,\n",
        "   'latency_min': 371.0,\n",
        "   'revision_max': 3008.0,\n",
        "   'revision_min': 2989.0,\n",
        "   'ts_max': 1706.7711458333333,\n",
        "   'ts_min': 1705.1043865740742,\n",
        "   'weight': 3.0}),\n",
        " (u'24.254.92.184',\n",
        "  u'Bill Clinton',\n",
        "  {'diff_max': -57410.0,\n",
        "   'diff_median': -57410.0,\n",
        "   'diff_min': -57410.0,\n",
        "   'latency_max': 49391.0,\n",
        "   'latency_median': 49391.0,\n",
        "   'latency_min': 49391.0,\n",
        "   'revision_max': 1879.0,\n",
        "   'revision_min': 1879.0,\n",
        "   'ts_max': 1566.8687615740741,\n",
        "   'ts_min': 1566.8687615740741,\n",
        "   'weight': 1.0})]"
       ]
      }
     ],
     "prompt_number": 45
    },
    {
     "cell_type": "heading",
     "level": 3,
     "metadata": {},
     "source": [
      "Scrape revisions for all the articles in the hyperlink network"
     ]
    },
    {
     "cell_type": "markdown",
     "metadata": {},
     "source": [
      "Now it's time to do a really audacious data scrape. We're going to get the revision histories for all 2,646 articles linked to and from Hillary's article. The data will be stored in the `dataframe_dict` dictionary that will be keyed by article title and the values will be the dataframes themselves. We'll use a `for` loop to go over every article in the `all_links` and call the `get_revision_df` function we defined and tested above to get the cleaned revision DataFrame and store it in the `dataframe_dict` object. Because this scrape may take a while, we're going to put in some exception handling (try, except) so that if an error occurs, we don't lose all our progress. When an exception occurs, we'll add the article name to the `errors` list so we can go back and check what happened.\n",
      "\n",
      "We'll concatenate all these DataFrames together into a gigantic DataFrame containing all the data we've scraped and then save it. This is a 485 MB file!\n",
      "\n",
      "***This will take a long time and a lot of memory!!!*** To prevent you from accidentally executing this, the block below is in a \"raw\" format that you'll need to convert to \"Code\" from the dropdown above."
     ]
    },
    {
     "cell_type": "raw",
     "metadata": {},
     "source": [
      "# List of DataFrames\n",
      "dataframe_dict = {u'Bill Clinton': bc_rv_df,\n",
      "                  u'Hillary Rodham Clinton': hrc_rv_df}\n",
      "\n",
      "# Set operations\n",
      "all_links = list(set(hrc_alllink_outlist) | set(hrc_alllink_inlist))\n",
      "\n",
      "# Start the scrape\n",
      "errors = list()\n",
      "for article in all_links:\n",
      "    try:\n",
      "        df = get_revision_df(article)\n",
      "        dataframe_dict[article] = df\n",
      "    except:\n",
      "        errors.append(article)\n",
      "        pass\n",
      "\n",
      "gigantic_df = pd.concat(dataframe_dict.values())\n",
      "gigantic_df.to_csv('gigantic_df.csv',encoding='utf8')"
     ]
    },
    {
     "cell_type": "markdown",
     "metadata": {},
     "source": [
      "And there are nearly 3 millions revisions in the dataset!"
     ]
    },
    {
     "cell_type": "code",
     "collapsed": false,
     "input": [
      "len(gigantic_df)"
     ],
     "language": "python",
     "metadata": {},
     "outputs": [
      {
       "metadata": {},
       "output_type": "pyout",
       "prompt_number": 338,
       "text": [
        "2889692"
       ]
      }
     ],
     "prompt_number": 338
    },
    {
     "cell_type": "heading",
     "level": 3,
     "metadata": {},
     "source": [
      "Make a coauthorship network"
     ]
    },
    {
     "cell_type": "markdown",
     "metadata": {},
     "source": [
      "The analysis can start again here by loading the CSV file rather than having to re-scrape the data from above. Loading the file to `gigantic_df`, there are a few rows that seem to be broken, so we'll use `drop` to remove them. We also use `to_datetime` to make sure the timestamp information is using the appropriate units."
     ]
    },
    {
     "cell_type": "code",
     "collapsed": false,
     "input": [
      "gigantic_df = pd.read_csv('gigantic_df.csv',\n",
      "                          encoding='utf8',\n",
      "                          index_col=['page','revision'],\n",
      "                          parse_dates=['timestamp','date']\n",
      "                          )\n",
      "\n",
      "gigantic_df = gigantic_df.drop((\"[[History of the United States]] at [[History of the United States#British colonization|British Colonization]]. ([[WP:TW|TW]])\",589285361))\n",
      "gigantic_df = gigantic_df.drop((\"United States\",32868))\n",
      "\n",
      "gigantic_df['timestamp'] = pd.to_datetime(gigantic_df['timestamp'],unit='s')\n",
      "gigantic_df['date'] = pd.to_datetime(gigantic_df['date'],unit='d')\n",
      "\n",
      "gigantic_df.head()"
     ],
     "language": "python",
     "metadata": {},
     "outputs": [
      {
       "output_type": "stream",
       "stream": "stderr",
       "text": [
        "/Users/brianckeegan/anaconda/lib/python2.7/site-packages/pandas/io/parsers.py:1139: DtypeWarning: Columns (2,4,5) have mixed types. Specify dtype option on import or set low_memory=False.\n",
        "  data = self._reader.read(nrows)\n"
       ]
      },
      {
       "html": [
        "<div style=\"max-height:1000px;max-width:1500px;overflow:auto;\">\n",
        "<table border=\"1\" class=\"dataframe\">\n",
        "  <thead>\n",
        "    <tr style=\"text-align: right;\">\n",
        "      <th></th>\n",
        "      <th></th>\n",
        "      <th>anon</th>\n",
        "      <th>comment</th>\n",
        "      <th>parentid</th>\n",
        "      <th>revid</th>\n",
        "      <th>size</th>\n",
        "      <th>timestamp</th>\n",
        "      <th>user</th>\n",
        "      <th>userid</th>\n",
        "      <th>unique_users</th>\n",
        "      <th>date</th>\n",
        "      <th>diff</th>\n",
        "      <th>latency</th>\n",
        "    </tr>\n",
        "    <tr>\n",
        "      <th>page</th>\n",
        "      <th>revision</th>\n",
        "      <th></th>\n",
        "      <th></th>\n",
        "      <th></th>\n",
        "      <th></th>\n",
        "      <th></th>\n",
        "      <th></th>\n",
        "      <th></th>\n",
        "      <th></th>\n",
        "      <th></th>\n",
        "      <th></th>\n",
        "      <th></th>\n",
        "      <th></th>\n",
        "    </tr>\n",
        "  </thead>\n",
        "  <tbody>\n",
        "    <tr>\n",
        "      <th rowspan=\"5\" valign=\"top\">Yucaipa Companies</th>\n",
        "      <th>0</th>\n",
        "      <td> False</td>\n",
        "      <td>                                   create org-stub</td>\n",
        "      <td>        0</td>\n",
        "      <td> 38555542</td>\n",
        "      <td>  799</td>\n",
        "      <td>2006-02-07 02:16:04</td>\n",
        "      <td>           Rj</td>\n",
        "      <td>  43158</td>\n",
        "      <td> 1</td>\n",
        "      <td>2006-02-07</td>\n",
        "      <td>NaN</td>\n",
        "      <td>     NaN</td>\n",
        "    </tr>\n",
        "    <tr>\n",
        "      <th>1</th>\n",
        "      <td> False</td>\n",
        "      <td>                                                hq</td>\n",
        "      <td> 38555542</td>\n",
        "      <td> 38557692</td>\n",
        "      <td>  878</td>\n",
        "      <td>2006-02-07 02:32:44</td>\n",
        "      <td>           Rj</td>\n",
        "      <td>  43158</td>\n",
        "      <td> 1</td>\n",
        "      <td>2006-02-07</td>\n",
        "      <td> 79</td>\n",
        "      <td>    1001</td>\n",
        "    </tr>\n",
        "    <tr>\n",
        "      <th>2</th>\n",
        "      <td> False</td>\n",
        "      <td>                                       [[GameSpy]]</td>\n",
        "      <td> 38557692</td>\n",
        "      <td> 38565610</td>\n",
        "      <td>  920</td>\n",
        "      <td>2006-02-07 03:42:00</td>\n",
        "      <td>           Rj</td>\n",
        "      <td>  43158</td>\n",
        "      <td> 1</td>\n",
        "      <td>2006-02-07</td>\n",
        "      <td> 42</td>\n",
        "      <td>    4161</td>\n",
        "    </tr>\n",
        "    <tr>\n",
        "      <th>3</th>\n",
        "      <td> False</td>\n",
        "      <td> Disambiguate [[Franchise]] to [[Franchising]] ...</td>\n",
        "      <td> 38565610</td>\n",
        "      <td> 40811579</td>\n",
        "      <td>  932</td>\n",
        "      <td>2006-02-23 04:12:35</td>\n",
        "      <td>      Deville</td>\n",
        "      <td> 364144</td>\n",
        "      <td> 2</td>\n",
        "      <td>2006-02-23</td>\n",
        "      <td> 12</td>\n",
        "      <td> 1384241</td>\n",
        "    </tr>\n",
        "    <tr>\n",
        "      <th>4</th>\n",
        "      <td>  True</td>\n",
        "      <td>                                               NaN</td>\n",
        "      <td> 40811579</td>\n",
        "      <td> 49638872</td>\n",
        "      <td> 1025</td>\n",
        "      <td>2006-04-22 19:51:18</td>\n",
        "      <td> 67.190.40.99</td>\n",
        "      <td>      0</td>\n",
        "      <td> 3</td>\n",
        "      <td>2006-04-22</td>\n",
        "      <td> 93</td>\n",
        "      <td> 5067521</td>\n",
        "    </tr>\n",
        "  </tbody>\n",
        "</table>\n",
        "</div>"
       ],
       "metadata": {},
       "output_type": "pyout",
       "prompt_number": 46,
       "text": [
        "                             anon  \\\n",
        "page              revision          \n",
        "Yucaipa Companies 0         False   \n",
        "                  1         False   \n",
        "                  2         False   \n",
        "                  3         False   \n",
        "                  4          True   \n",
        "\n",
        "                                                                      comment  \\\n",
        "page              revision                                                      \n",
        "Yucaipa Companies 0                                           create org-stub   \n",
        "                  1                                                        hq   \n",
        "                  2                                               [[GameSpy]]   \n",
        "                  3         Disambiguate [[Franchise]] to [[Franchising]] ...   \n",
        "                  4                                                       NaN   \n",
        "\n",
        "                            parentid     revid  size           timestamp  \\\n",
        "page              revision                                                 \n",
        "Yucaipa Companies 0                0  38555542   799 2006-02-07 02:16:04   \n",
        "                  1         38555542  38557692   878 2006-02-07 02:32:44   \n",
        "                  2         38557692  38565610   920 2006-02-07 03:42:00   \n",
        "                  3         38565610  40811579   932 2006-02-23 04:12:35   \n",
        "                  4         40811579  49638872  1025 2006-04-22 19:51:18   \n",
        "\n",
        "                                    user  userid  unique_users       date  \\\n",
        "page              revision                                                  \n",
        "Yucaipa Companies 0                   Rj   43158             1 2006-02-07   \n",
        "                  1                   Rj   43158             1 2006-02-07   \n",
        "                  2                   Rj   43158             1 2006-02-07   \n",
        "                  3              Deville  364144             2 2006-02-23   \n",
        "                  4         67.190.40.99       0             3 2006-04-22   \n",
        "\n",
        "                            diff  latency  \n",
        "page              revision                 \n",
        "Yucaipa Companies 0          NaN      NaN  \n",
        "                  1           79     1001  \n",
        "                  2           42     4161  \n",
        "                  3           12  1384241  \n",
        "                  4           93  5067521  "
       ]
      }
     ],
     "prompt_number": 46
    },
    {
     "cell_type": "markdown",
     "metadata": {},
     "source": [
      "Now do all the `groupby` and `agg` operations to create the edgelists and nodelists we'll need to make a network as well as the data cleanup steps we did above."
     ]
    },
    {
     "cell_type": "code",
     "collapsed": false,
     "input": [
      "edge_agg_function = {'revid':{'weight':len},\n",
      "                     'timestamp':{'ts_min':np.min,'ts_max':np.max},\n",
      "                     'diff':{'diff_min':np.min,'diff_median':np.median,'diff_max':np.max},\n",
      "                     'latency':{'latency_min':np.min,'latency_median':np.median,'latency_max':np.max},\n",
      "                     'revision':{'revision_min':np.min,'revision_max':np.max}\n",
      "                     }\n",
      "\n",
      "# Create the edgelist by grouping on both page and user \n",
      "gigantic_gb_edge = gigantic_df.reset_index().groupby(['page','user'])\n",
      "gigantic_edgelist = gigantic_gb_edge.agg(edge_agg_function)\n",
      "\n",
      "# Drop the legacy/redundant column names\n",
      "gigantic_edgelist.columns = gigantic_edgelist.columns.droplevel(0)\n",
      "\n",
      "# Convert the ts_min and ts_max to floats for the number of days since Wikipedia was founded\n",
      "gigantic_edgelist['ts_min'] = (gigantic_edgelist['ts_min'] - pd.Timestamp('2001-1-16'))/np.timedelta64(1,'D')\n",
      "gigantic_edgelist['ts_max'] = (gigantic_edgelist['ts_max'] - pd.Timestamp('2001-1-16'))/np.timedelta64(1,'D')\n",
      "\n",
      "print \"There are {0} edges in the network.\".format(len(gigantic_edgelist))"
     ],
     "language": "python",
     "metadata": {},
     "outputs": [
      {
       "output_type": "stream",
       "stream": "stdout",
       "text": [
        "There are 1198564 edges in the network.\n"
       ]
      }
     ],
     "prompt_number": 47
    },
    {
     "cell_type": "code",
     "collapsed": false,
     "input": [
      "node_agg_function = {'revid':{'revisions':len},\n",
      "                     'timestamp':{'ts_min':np.min,'ts_max':np.max},\n",
      "                     'diff':{'diff_min':np.min,'diff_median':np.median,'diff_max':np.max},\n",
      "                     'latency':{'latency_min':np.min,'latency_median':np.median,'latency_max':np.max},\n",
      "                     'revision':{'revision_min':np.min,'revision_median':np.median,'revision_max':np.max}\n",
      "                     }\n",
      "\n",
      "# Create the usernodelist by grouping on user and aggregating\n",
      "gigantic_gb_user = gigantic_df.reset_index().groupby(['user'])\n",
      "gigantic_usernodelist = gigantic_gb_user.agg(node_agg_function)\n",
      "\n",
      "# Clean up the columns and convert the timestamps to counts\n",
      "gigantic_usernodelist.columns = gigantic_usernodelist.columns.droplevel(0)\n",
      "gigantic_usernodelist['ts_min'] = (gigantic_usernodelist['ts_min'] - pd.Timestamp('2001-1-16'))/np.timedelta64(1,'D')\n",
      "gigantic_usernodelist['ts_max'] = (gigantic_usernodelist['ts_max'] - pd.Timestamp('2001-1-16'))/np.timedelta64(1,'D')\n",
      "\n",
      "print \"There are {0} editor nodes in the network.\".format(len(gigantic_usernodelist))\n",
      "\n",
      "gigantic_usernodelist.head()"
     ],
     "language": "python",
     "metadata": {},
     "outputs": [
      {
       "output_type": "stream",
       "stream": "stdout",
       "text": [
        "There are 609386 editor nodes in the network.\n"
       ]
      },
      {
       "html": [
        "<div style=\"max-height:1000px;max-width:1500px;overflow:auto;\">\n",
        "<table border=\"1\" class=\"dataframe\">\n",
        "  <thead>\n",
        "    <tr style=\"text-align: right;\">\n",
        "      <th></th>\n",
        "      <th>ts_min</th>\n",
        "      <th>ts_max</th>\n",
        "      <th>revision_min</th>\n",
        "      <th>revision_max</th>\n",
        "      <th>revision_median</th>\n",
        "      <th>revisions</th>\n",
        "      <th>latency_min</th>\n",
        "      <th>latency_median</th>\n",
        "      <th>latency_max</th>\n",
        "      <th>diff_median</th>\n",
        "      <th>diff_max</th>\n",
        "      <th>diff_min</th>\n",
        "    </tr>\n",
        "    <tr>\n",
        "      <th>user</th>\n",
        "      <th></th>\n",
        "      <th></th>\n",
        "      <th></th>\n",
        "      <th></th>\n",
        "      <th></th>\n",
        "      <th></th>\n",
        "      <th></th>\n",
        "      <th></th>\n",
        "      <th></th>\n",
        "      <th></th>\n",
        "      <th></th>\n",
        "      <th></th>\n",
        "    </tr>\n",
        "  </thead>\n",
        "  <tbody>\n",
        "    <tr>\n",
        "      <th>!!2011WorldProtests!!</th>\n",
        "      <td> 3667.980139</td>\n",
        "      <td> 3671.951539</td>\n",
        "      <td>   473</td>\n",
        "      <td>  4059</td>\n",
        "      <td>  3106.0</td>\n",
        "      <td> 33</td>\n",
        "      <td>     31</td>\n",
        "      <td>    111</td>\n",
        "      <td>   5031</td>\n",
        "      <td>  57.0</td>\n",
        "      <td> 324</td>\n",
        "      <td> -22</td>\n",
        "    </tr>\n",
        "    <tr>\n",
        "      <th>!!2011WorldProtests!!Appletart!!</th>\n",
        "      <td> 3667.906146</td>\n",
        "      <td> 3667.917222</td>\n",
        "      <td>  2459</td>\n",
        "      <td>  2466</td>\n",
        "      <td>  2462.5</td>\n",
        "      <td>  2</td>\n",
        "      <td>    151</td>\n",
        "      <td>    301</td>\n",
        "      <td>    451</td>\n",
        "      <td>  13.5</td>\n",
        "      <td>  27</td>\n",
        "      <td>   0</td>\n",
        "    </tr>\n",
        "    <tr>\n",
        "      <th>!\"\u00a3$</th>\n",
        "      <td> 2103.991366</td>\n",
        "      <td> 2103.991366</td>\n",
        "      <td>   664</td>\n",
        "      <td>   664</td>\n",
        "      <td>   664.0</td>\n",
        "      <td>  1</td>\n",
        "      <td>  94341</td>\n",
        "      <td>  94341</td>\n",
        "      <td>  94341</td>\n",
        "      <td> 113.0</td>\n",
        "      <td> 113</td>\n",
        "      <td> 113</td>\n",
        "    </tr>\n",
        "    <tr>\n",
        "      <th>!1029qpwoalskzmxn</th>\n",
        "      <td> 3032.998449</td>\n",
        "      <td> 3032.998449</td>\n",
        "      <td> 17228</td>\n",
        "      <td> 17228</td>\n",
        "      <td> 17228.0</td>\n",
        "      <td>  1</td>\n",
        "      <td>  15381</td>\n",
        "      <td>  15381</td>\n",
        "      <td>  15381</td>\n",
        "      <td> 185.0</td>\n",
        "      <td> 185</td>\n",
        "      <td> 185</td>\n",
        "    </tr>\n",
        "    <tr>\n",
        "      <th>!ComputerAlert!</th>\n",
        "      <td> 3328.060347</td>\n",
        "      <td> 3328.060347</td>\n",
        "      <td>  1266</td>\n",
        "      <td>  1266</td>\n",
        "      <td>  1266.0</td>\n",
        "      <td>  1</td>\n",
        "      <td> 426451</td>\n",
        "      <td> 426451</td>\n",
        "      <td> 426451</td>\n",
        "      <td>  21.0</td>\n",
        "      <td>  21</td>\n",
        "      <td>  21</td>\n",
        "    </tr>\n",
        "  </tbody>\n",
        "</table>\n",
        "</div>"
       ],
       "metadata": {},
       "output_type": "pyout",
       "prompt_number": 48,
       "text": [
        "                                       ts_min       ts_max  revision_min  \\\n",
        "user                                                                       \n",
        "!!2011WorldProtests!!             3667.980139  3671.951539           473   \n",
        "!!2011WorldProtests!!Appletart!!  3667.906146  3667.917222          2459   \n",
        "!\"\u00a3$                              2103.991366  2103.991366           664   \n",
        "!1029qpwoalskzmxn                 3032.998449  3032.998449         17228   \n",
        "!ComputerAlert!                   3328.060347  3328.060347          1266   \n",
        "\n",
        "                                  revision_max  revision_median  revisions  \\\n",
        "user                                                                         \n",
        "!!2011WorldProtests!!                     4059           3106.0         33   \n",
        "!!2011WorldProtests!!Appletart!!          2466           2462.5          2   \n",
        "!\"\u00a3$                                       664            664.0          1   \n",
        "!1029qpwoalskzmxn                        17228          17228.0          1   \n",
        "!ComputerAlert!                           1266           1266.0          1   \n",
        "\n",
        "                                  latency_min  latency_median  latency_max  \\\n",
        "user                                                                         \n",
        "!!2011WorldProtests!!                      31             111         5031   \n",
        "!!2011WorldProtests!!Appletart!!          151             301          451   \n",
        "!\"\u00a3$                                    94341           94341        94341   \n",
        "!1029qpwoalskzmxn                       15381           15381        15381   \n",
        "!ComputerAlert!                        426451          426451       426451   \n",
        "\n",
        "                                  diff_median  diff_max  diff_min  \n",
        "user                                                               \n",
        "!!2011WorldProtests!!                    57.0       324       -22  \n",
        "!!2011WorldProtests!!Appletart!!         13.5        27         0  \n",
        "!\"\u00a3$                                    113.0       113       113  \n",
        "!1029qpwoalskzmxn                       185.0       185       185  \n",
        "!ComputerAlert!                          21.0        21        21  "
       ]
      }
     ],
     "prompt_number": 48
    },
    {
     "cell_type": "code",
     "collapsed": false,
     "input": [
      "# Create the usernodelist by grouping on page and aggregating\n",
      "gigantic_gb_page = gigantic_df.reset_index().groupby(['page'])\n",
      "gigantic_pagenodelist = gigantic_gb_page.agg(node_agg_function)\n",
      "\n",
      "# Clean up the columns and convert the timestamps to counts\n",
      "gigantic_pagenodelist.columns = gigantic_pagenodelist.columns.droplevel(0)\n",
      "gigantic_pagenodelist['ts_min'] = (gigantic_pagenodelist['ts_min'] - pd.Timestamp('2001-1-16'))/np.timedelta64(1,'D')\n",
      "gigantic_pagenodelist['ts_max'] = (gigantic_pagenodelist['ts_max'] - pd.Timestamp('2001-1-16'))/np.timedelta64(1,'D')\n",
      "\n",
      "print \"There are {0} page nodes in the network.\".format(len(gigantic_pagenodelist))\n",
      "\n",
      "gigantic_pagenodelist.head()"
     ],
     "language": "python",
     "metadata": {},
     "outputs": [
      {
       "output_type": "stream",
       "stream": "stdout",
       "text": [
        "There are 2644 page nodes in the network.\n"
       ]
      },
      {
       "html": [
        "<div style=\"max-height:1000px;max-width:1500px;overflow:auto;\">\n",
        "<table border=\"1\" class=\"dataframe\">\n",
        "  <thead>\n",
        "    <tr style=\"text-align: right;\">\n",
        "      <th></th>\n",
        "      <th>ts_min</th>\n",
        "      <th>ts_max</th>\n",
        "      <th>revision_min</th>\n",
        "      <th>revision_max</th>\n",
        "      <th>revision_median</th>\n",
        "      <th>revisions</th>\n",
        "      <th>latency_min</th>\n",
        "      <th>latency_median</th>\n",
        "      <th>latency_max</th>\n",
        "      <th>diff_median</th>\n",
        "      <th>diff_max</th>\n",
        "      <th>diff_min</th>\n",
        "    </tr>\n",
        "    <tr>\n",
        "      <th>page</th>\n",
        "      <th></th>\n",
        "      <th></th>\n",
        "      <th></th>\n",
        "      <th></th>\n",
        "      <th></th>\n",
        "      <th></th>\n",
        "      <th></th>\n",
        "      <th></th>\n",
        "      <th></th>\n",
        "      <th></th>\n",
        "      <th></th>\n",
        "      <th></th>\n",
        "    </tr>\n",
        "  </thead>\n",
        "  <tbody>\n",
        "    <tr>\n",
        "      <th>10 Janpath</th>\n",
        "      <td> 1952.730394</td>\n",
        "      <td> 4918.583762</td>\n",
        "      <td> 0</td>\n",
        "      <td>   86</td>\n",
        "      <td>   43.0</td>\n",
        "      <td>   87</td>\n",
        "      <td> 21</td>\n",
        "      <td>  142856</td>\n",
        "      <td> 34497461</td>\n",
        "      <td> 13.5</td>\n",
        "      <td>   568</td>\n",
        "      <td>  -548</td>\n",
        "    </tr>\n",
        "    <tr>\n",
        "      <th>107th United States Congress</th>\n",
        "      <td> 1068.466620</td>\n",
        "      <td> 4866.595417</td>\n",
        "      <td> 0</td>\n",
        "      <td>  497</td>\n",
        "      <td>  248.5</td>\n",
        "      <td>  498</td>\n",
        "      <td> 11</td>\n",
        "      <td>   40651</td>\n",
        "      <td> 11445051</td>\n",
        "      <td>  9.0</td>\n",
        "      <td> 95328</td>\n",
        "      <td>-95328</td>\n",
        "    </tr>\n",
        "    <tr>\n",
        "      <th>11/22/63</th>\n",
        "      <td> 3697.706644</td>\n",
        "      <td> 4997.840532</td>\n",
        "      <td> 0</td>\n",
        "      <td>  955</td>\n",
        "      <td>  477.5</td>\n",
        "      <td>  956</td>\n",
        "      <td>  1</td>\n",
        "      <td>    2041</td>\n",
        "      <td>  4650531</td>\n",
        "      <td>  5.0</td>\n",
        "      <td> 34146</td>\n",
        "      <td>-34146</td>\n",
        "    </tr>\n",
        "    <tr>\n",
        "      <th>111th United States Congress</th>\n",
        "      <td> 1647.791111</td>\n",
        "      <td> 5001.887164</td>\n",
        "      <td> 0</td>\n",
        "      <td> 3410</td>\n",
        "      <td> 1705.0</td>\n",
        "      <td> 3411</td>\n",
        "      <td> 11</td>\n",
        "      <td>    1476</td>\n",
        "      <td> 27124741</td>\n",
        "      <td>  1.0</td>\n",
        "      <td> 26558</td>\n",
        "      <td>-17513</td>\n",
        "    </tr>\n",
        "    <tr>\n",
        "      <th>14 Women</th>\n",
        "      <td> 2805.139792</td>\n",
        "      <td> 4828.690787</td>\n",
        "      <td> 0</td>\n",
        "      <td>   39</td>\n",
        "      <td>   19.5</td>\n",
        "      <td>   40</td>\n",
        "      <td> 21</td>\n",
        "      <td> 2127091</td>\n",
        "      <td> 17709771</td>\n",
        "      <td> 16.0</td>\n",
        "      <td>   705</td>\n",
        "      <td>   -95</td>\n",
        "    </tr>\n",
        "  </tbody>\n",
        "</table>\n",
        "</div>"
       ],
       "metadata": {},
       "output_type": "pyout",
       "prompt_number": 49,
       "text": [
        "                                   ts_min       ts_max  revision_min  \\\n",
        "page                                                                   \n",
        "10 Janpath                    1952.730394  4918.583762             0   \n",
        "107th United States Congress  1068.466620  4866.595417             0   \n",
        "11/22/63                      3697.706644  4997.840532             0   \n",
        "111th United States Congress  1647.791111  5001.887164             0   \n",
        "14 Women                      2805.139792  4828.690787             0   \n",
        "\n",
        "                              revision_max  revision_median  revisions  \\\n",
        "page                                                                     \n",
        "10 Janpath                              86             43.0         87   \n",
        "107th United States Congress           497            248.5        498   \n",
        "11/22/63                               955            477.5        956   \n",
        "111th United States Congress          3410           1705.0       3411   \n",
        "14 Women                                39             19.5         40   \n",
        "\n",
        "                              latency_min  latency_median  latency_max  \\\n",
        "page                                                                     \n",
        "10 Janpath                             21          142856     34497461   \n",
        "107th United States Congress           11           40651     11445051   \n",
        "11/22/63                                1            2041      4650531   \n",
        "111th United States Congress           11            1476     27124741   \n",
        "14 Women                               21         2127091     17709771   \n",
        "\n",
        "                              diff_median  diff_max  diff_min  \n",
        "page                                                           \n",
        "10 Janpath                           13.5       568      -548  \n",
        "107th United States Congress          9.0     95328    -95328  \n",
        "11/22/63                              5.0     34146    -34146  \n",
        "111th United States Congress          1.0     26558    -17513  \n",
        "14 Women                             16.0       705       -95  "
       ]
      }
     ],
     "prompt_number": 49
    },
    {
     "cell_type": "markdown",
     "metadata": {},
     "source": [
      "Having created the edge and node lists in the previous step, we can now add these data to a `NetworkX` `DiGraph` object we'll call `gigantic_g`. As before, we add the edges and edge attributes from `gigantic_edgelist` and then add the nodes and node attribtues from `gigantic_usernodelist` and `gigantic_pagenodelist`. We perform a dictionary comprehension to convert the values of the attribtues in the dictionary to `float` data type rather than the `numpy.float64` which doesn't play nicely with the graph writing function in `NetworkX`. And then we can do the \"grand reveal\" to describe the coauthorship network of the articles in the hyperlink network neighborhood of Hillary's article."
     ]
    },
    {
     "cell_type": "code",
     "collapsed": false,
     "input": [
      "gigantic_g = nx.DiGraph()\n",
      "# Add the edges and edge attributes\n",
      "for (article,editor) in iter(gigantic_edgelist.index.values):\n",
      "    edge_attributes = dict(gigantic_edgelist.ix[(article,editor)])\n",
      "    edge_attributes = {k:float(v) for k,v in edge_attributes.iteritems()}\n",
      "    gigantic_g.add_edge(editor,article,edge_attributes)\n",
      "\n",
      "# Add the user nodes and attributes\n",
      "for node in iter(gigantic_usernodelist.index):\n",
      "    node_attributes = dict(gigantic_usernodelist.ix[node])\n",
      "    node_attributes = {k:float(v) for k,v in node_attributes.iteritems()}\n",
      "    gigantic_g.add_node(node,node_attributes)\n",
      "\n",
      "# Add the page nodes and attributes\n",
      "for node in iter(gigantic_pagenodelist.index):\n",
      "    node_attributes = dict(gigantic_pagenodelist.ix[node])\n",
      "    node_attributes = {k:float(v) for k,v in node_attributes.iteritems()}\n",
      "    gigantic_g.add_node(node,node_attributes)\n",
      "    \n",
      "print \"There are {0} nodes and {1} edges in the network.\".format(gigantic_g.number_of_nodes(),gigantic_g.number_of_edges())\n",
      "\n",
      "gigantic_g.edges(data=True)[:3]"
     ],
     "language": "python",
     "metadata": {},
     "outputs": [
      {
       "output_type": "stream",
       "stream": "stdout",
       "text": [
        "There are 612010 nodes and 1198564 edges in the network.\n"
       ]
      },
      {
       "metadata": {},
       "output_type": "pyout",
       "prompt_number": 70,
       "text": [
        "[(u'168.169.192.149',\n",
        "  u'John McCain',\n",
        "  {'diff_max': 33.0,\n",
        "   'diff_median': 13.5,\n",
        "   'diff_min': -6.0,\n",
        "   'latency_max': 71.0,\n",
        "   'latency_median': 51.0,\n",
        "   'latency_min': 31.0,\n",
        "   'revision_max': 858.0,\n",
        "   'revision_min': 857.0,\n",
        "   'ts_max': 1893.7183449074073,\n",
        "   'ts_min': 1893.7175578703705,\n",
        "   'weight': 2.0}),\n",
        " (u'128.230.245.28',\n",
        "  u'John Marshall',\n",
        "  {'diff_max': 50.0,\n",
        "   'diff_median': 50.0,\n",
        "   'diff_min': 50.0,\n",
        "   'latency_max': 46211.0,\n",
        "   'latency_median': 46211.0,\n",
        "   'latency_min': 46211.0,\n",
        "   'revision_max': 1164.0,\n",
        "   'revision_min': 1164.0,\n",
        "   'ts_max': 2809.7745601851852,\n",
        "   'ts_min': 2809.7745601851852,\n",
        "   'weight': 1.0}),\n",
        " (u'206.176.248.71',\n",
        "  u'Anticoagulant',\n",
        "  {'diff_max': 3.0,\n",
        "   'diff_median': 1.0,\n",
        "   'diff_min': -1.0,\n",
        "   'latency_max': 1126091.0,\n",
        "   'latency_median': 563116.0,\n",
        "   'latency_min': 141.0,\n",
        "   'revision_max': 199.0,\n",
        "   'revision_min': 198.0,\n",
        "   'ts_max': 3592.6432523148146,\n",
        "   'ts_min': 3592.6416435185183,\n",
        "   'weight': 2.0})]"
       ]
      }
     ],
     "prompt_number": 70
    },
    {
     "cell_type": "markdown",
     "metadata": {},
     "source": [
      "Finally, having gone through all this effort to make a co-authorship network with such rich attributes and complex properties, we should save our work. There are many different file formats for storing network objects to disk, but the two I use the most are [\"graphml\"](http://graphml.graphdrawing.org/) and [\"gexf\"](http://gexf.net/format/). They do slightly different things, but they're generally interoperable and compatible with many programs for visualizing networks like [Gephi](http://www.gephi.org/)."
     ]
    },
    {
     "cell_type": "code",
     "collapsed": false,
     "input": [
      "nx.write_graphml(gigantic_g,'gigantic_g.graphml')"
     ],
     "language": "python",
     "metadata": {},
     "outputs": [],
     "prompt_number": 71
    },
    {
     "cell_type": "heading",
     "level": 3,
     "metadata": {},
     "source": [
      "Analyze the `gigantic_g` network"
     ]
    },
    {
     "cell_type": "markdown",
     "metadata": {},
     "source": [
      "Now let's perform some basic network analyses on this gigantic graph we've created. An extremely easy and important metric to compute is the degree centrality of nodes in the network: how well-connected a node is based on the number of edges it has to other nodes. We use the directed nature of the edges to distinguish between articles (which receive links in) and editors (which send links out) to compute the in- and out-degree centralities respectively with the `nx.in_degree_centrality` and `nx.out_degree_centrality` functions. These functions return a *normalized* degree centrality, where the values aren't the integer count of the number of connected edges, but rather the fraction of other nodes connected to which it's connected. The values are recorded in a dictionary keyed by the node ID (article title or user name), which are saved as `g_idc` and `g_odc`."
     ]
    },
    {
     "cell_type": "code",
     "collapsed": false,
     "input": [
      "g_idc = nx.in_degree_centrality(gigantic_g)\n",
      "g_odc = nx.out_degree_centrality(gigantic_g)"
     ],
     "language": "python",
     "metadata": {},
     "outputs": [],
     "prompt_number": 51
    },
    {
     "cell_type": "markdown",
     "metadata": {},
     "source": [
      "We can use a fancy bit of programming called `itemgetter` to quickly sort these dictionaries and return the 10-top connected articles and users. Hillary, despite being the central node we started at, is not actually the best-connected article, but rather other major people and entities. The top editors, interestingly enough are not actually people, but automated bots who perform a variety of maintenance and cleanup tasks across articles. "
     ]
    },
    {
     "cell_type": "code",
     "collapsed": false,
     "input": [
      "sorted(g_idc.iteritems(), key=itemgetter(1),reverse=True)[:10]"
     ],
     "language": "python",
     "metadata": {},
     "outputs": [
      {
       "metadata": {},
       "output_type": "pyout",
       "prompt_number": 58,
       "text": [
        "[(u'George W. Bush', 0.023424492123481844),\n",
        " (u'United States', 0.015543889060454993),\n",
        " (u'World War II', 0.012124004712349002),\n",
        " (u'Chicago', 0.011112581677720425),\n",
        " (u'Barack Obama', 0.010483505961513638),\n",
        " (u'India', 0.010083185051200228),\n",
        " (u'Ronald Reagan', 0.009625675439413473),\n",
        " (u'Diana, Princess of Wales', 0.009333196080449796),\n",
        " (u'Bill Clinton', 0.009318490414356652),\n",
        " (u'New York City', 0.00905215446178079)]"
       ]
      }
     ],
     "prompt_number": 58
    },
    {
     "cell_type": "code",
     "collapsed": false,
     "input": [
      "sorted(g_odc.iteritems(), key=itemgetter(1),reverse=True)[:10]"
     ],
     "language": "python",
     "metadata": {},
     "outputs": [
      {
       "metadata": {},
       "output_type": "pyout",
       "prompt_number": 53,
       "text": [
        "[(u'SmackBot', 0.0032515861694844355),\n",
        " (u'Addbot', 0.002730352004627383),\n",
        " (u'Cydebot', 0.002475453792346191),\n",
        " (u'Yobot', 0.0024378726456637076),\n",
        " (u'RjwilmsiBot', 0.0023659782780972175),\n",
        " (u'AnomieBOT', 0.0019640234048845687),\n",
        " (u'ClueBot NG', 0.0019199064066051316),\n",
        " (u'Rjwilmsi', 0.00177775163437139),\n",
        " (u'ClueBot', 0.0017140270813010919),\n",
        " (u'FrescoBot', 0.001547362865578774)]"
       ]
      }
     ],
     "prompt_number": 53
    },
    {
     "cell_type": "markdown",
     "metadata": {},
     "source": [
      "We can plot a histogram of connectivity patterns for the articles and editors, which shows a very skewed distribution: most editors edit only a single article while there are single editors who make thousands of contributions. The distribution for articles shows a less severe but still very long-tailed distribution of contribution patterns."
     ]
    },
    {
     "cell_type": "code",
     "collapsed": false,
     "input": [
      "g_size = gigantic_g.number_of_nodes()\n",
      "g_idc_counter = Counter([v*(g_size-1) for v in g_idc.itervalues() if v != 0])\n",
      "g_odc_counter = Counter([v*(g_size-1) for v in g_odc.itervalues() if v != 0])\n",
      "\n",
      "plt.scatter(g_idc_counter.keys(),g_idc_counter.values(),s=50,c='b',label='Articles')\n",
      "plt.scatter(g_odc_counter.keys(),g_odc_counter.values(),s=50,c='r',label='Editors')\n",
      "plt.yscale('log')\n",
      "plt.xscale('log')\n",
      "plt.xlabel('Number of connections',fontsize=15)\n",
      "plt.ylabel('Number of nodes',fontsize=15)\n",
      "plt.legend(loc='upper right',scatterpoints=1)"
     ],
     "language": "python",
     "metadata": {},
     "outputs": [
      {
       "metadata": {},
       "output_type": "pyout",
       "prompt_number": 54,
       "text": [
        "<matplotlib.legend.Legend at 0x1403ce890>"
       ]
      },
      {
       "metadata": {},
       "output_type": "display_data",
       "png": "[encoded data removed]",
       "text": [
        "<matplotlib.figure.Figure at 0x1331965d0>"
       ]
      }
     ],
     "prompt_number": 54
    },
    {
     "cell_type": "markdown",
     "metadata": {},
     "source": [
      "We can also look at the distribution of edge weights, or the number of times that an editor contributed to an article. We could do this using the `gigantic_edgelist` DataFrame, but let's practice using the data attributes we've stored in the graph object. Using a list comprehension as before, we iterate (note the use of `edes_iter(data=True)` to both be more memory efficient and to return the edge attributes) over the edges which return a tuple (`i`,`j`,`attributes_dict`). We access the tuples' weights and store them in the list `weights`. Proceed with a `Counter` operation and then plot the results."
     ]
    },
    {
     "cell_type": "code",
     "collapsed": false,
     "input": [
      "weights = [attributes['weight'] for i,j,attributes in gigantic_g.edges_iter(data=True)]\n",
      "weight_counter = Counter(weights)\n",
      "\n",
      "plt.scatter(weight_counter.keys(),weight_counter.values(),s=50,c='b',label='Weights')\n",
      "plt.yscale('log')\n",
      "plt.xscale('log')\n",
      "plt.xlabel('Number of contributions',fontsize=15)\n",
      "plt.ylabel('Number of edges',fontsize=15)"
     ],
     "language": "python",
     "metadata": {},
     "outputs": [
      {
       "metadata": {},
       "output_type": "pyout",
       "prompt_number": 55,
       "text": [
        "<matplotlib.text.Text at 0x114ab9090>"
       ]
      },
      {
       "metadata": {},
       "output_type": "display_data",
       "png": "[encoded data removed]",
       "text": [
        "<matplotlib.figure.Figure at 0x13ede2990>"
       ]
      }
     ],
     "prompt_number": 55
    },
    {
     "cell_type": "markdown",
     "metadata": {},
     "source": [
      "We can compute another degree-related metric called \"assortativity\" that measures how well connected your neighbors are on average. We compute this statistic on the set of article and editor nodes using the `nx.assortativity.average_degree_connectivity` function with special attention to the direction of the ties as well as limiting the nodes to those in the set of pages or users, respectively. Plotting the distribution, both the articles and the editors exhibit negative correlations. In other words, for those editors (articles) connected with few articles (editors), those articles (editors) have a tendency to be well-connected to other nodes in the set. Conversely, for those editors (articles) connected with many articles (editors), those articles (editors) have a tendency to be poorly connected to other nodes in the set. Articles exhibit a stronger correlation than editors."
     ]
    },
    {
     "cell_type": "code",
     "collapsed": false,
     "input": [
      "article_nn_degree = nx.assortativity.average_degree_connectivity(gigantic_g,source='in',target='out',nodes=gigantic_pagenodelist.index)\n",
      "editor_nn_degree = nx.assortativity.average_degree_connectivity(gigantic_g,source='out',target='in',nodes=gigantic_usernodelist.index)\n",
      "\n",
      "plt.scatter(article_nn_degree.keys(),article_nn_degree.values(),s=50,c='b',label='Articles',alpha=.5)\n",
      "plt.scatter(editor_nn_degree.keys(),editor_nn_degree.values(),s=50,c='r',label='Editors',alpha=.5)\n",
      "plt.yscale('log')\n",
      "plt.xscale('log')\n",
      "plt.xlabel('Degree',fontsize=15)\n",
      "plt.ylabel('Average neighbor degree',fontsize=15)\n",
      "plt.legend(loc='upper right',scatterpoints=1)"
     ],
     "language": "python",
     "metadata": {},
     "outputs": [
      {
       "metadata": {},
       "output_type": "pyout",
       "prompt_number": 56,
       "text": [
        "<matplotlib.legend.Legend at 0x13f0e9b50>"
       ]
      },
      {
       "metadata": {},
       "output_type": "display_data",
       "png": "[encoded data removed]",
       "text": [
        "<matplotlib.figure.Figure at 0x114d2c050>"
       ]
      }
     ],
     "prompt_number": 56
    },
    {
     "cell_type": "heading",
     "level": 1,
     "metadata": {},
     "source": [
      "Testing other things out"
     ]
    },
    {
     "cell_type": "markdown",
     "metadata": {},
     "source": [
      "Just trying other things."
     ]
    },
    {
     "cell_type": "code",
     "collapsed": false,
     "input": [
      "gigantic_g.edges(data=True)[1]"
     ],
     "language": "python",
     "metadata": {},
     "outputs": [
      {
       "metadata": {},
       "output_type": "pyout",
       "prompt_number": 72,
       "text": [
        "(u'128.230.245.28',\n",
        " u'John Marshall',\n",
        " {'diff_max': 50.0,\n",
        "  'diff_median': 50.0,\n",
        "  'diff_min': 50.0,\n",
        "  'latency_max': 46211.0,\n",
        "  'latency_median': 46211.0,\n",
        "  'latency_min': 46211.0,\n",
        "  'revision_max': 1164.0,\n",
        "  'revision_min': 1164.0,\n",
        "  'ts_max': 2809.7745601851852,\n",
        "  'ts_min': 2809.7745601851852,\n",
        "  'weight': 1.0})"
       ]
      }
     ],
     "prompt_number": 72
    },
    {
     "cell_type": "code",
     "collapsed": false,
     "input": [
      "edge_weight_centrality = [list(),list()]\n",
      "for (i,j,attributes) in gigantic_g.edges_iter(data=True):\n",
      "    edge_weight_centrality[0].append(g_idc[j] - g_idc[i])\n",
      "    edge_weight_centrality[1].append(attributes['weight'])"
     ],
     "language": "python",
     "metadata": {},
     "outputs": [],
     "prompt_number": 75
    },
    {
     "cell_type": "code",
     "collapsed": false,
     "input": [
      "plt.scatter(edge_weight_centrality[0],edge_weight_centrality[1])\n",
      "plt.yscale('log')"
     ],
     "language": "python",
     "metadata": {},
     "outputs": [
      {
       "metadata": {},
       "output_type": "display_data",
       "png": "[encoded data removed]",
       "text": [
        "<matplotlib.figure.Figure at 0x14e05c850>"
       ]
      }
     ],
     "prompt_number": 77
    },
    {
     "cell_type": "heading",
     "level": 1,
     "metadata": {},
     "source": [
      "Appendix - There be dragons here"
     ]
    },
    {
     "cell_type": "heading",
     "level": 3,
     "metadata": {},
     "source": [
      "Get the links from neighboring articles"
     ]
    },
    {
     "cell_type": "markdown",
     "metadata": {},
     "source": [
      "Throughout this section, we've gotten the links for a single article. As we did with the user information in the previous section, we can wrap these queries in a function so that they're easier to run. Once we do this, we can do more interesting things like examine the hyperlink ego-network surrounding a single article. \n",
      "\n",
      "We take the lists of linked articles we extracted from Hillary's article and iterate over them, getting the lists of articles for each of them. We need to place the output of these into a larger data object that will hold everything. I'll use a dictionary keyed by article name that returns a dictionary containing the lists of links for that article. We'll put Hillary's data in there to start it up, but we'll add more.\n",
      "\n",
      "Next we come up with a list of articles we're going to iterate over. We could just add the `outlist` and `inlist` articles together, but there might be redundancies in there. Instead we'll cast these lists into `set` containing only unique article names and the union of these sets creates a master set of all unique article names. Then convert this joined set back into a list called `all_links` so we can iterate over it.\n",
      "\n",
      "This set of unique links has 2,646 articles in it, which will take some time to scrape all the data. ***This may take over an hour to run and will generate ~190MB of data: convert the cell below back to \"Code\" if you really want to execute it***"
     ]
    },
    {
     "cell_type": "raw",
     "metadata": {},
     "source": [
      "# Start up the data structure\n",
      "link_data = {u'Hillary Rodham Clinton':\n",
      "             {'Out':hrc_alllink_outlist,\n",
      "              'In':hrc_alllink_inlist}}\n",
      "\n",
      "# Set operations\n",
      "all_links = list(set(hrc_alllink_outlist) | set(hrc_alllink_inlist))\n",
      "\n",
      "# Start the scrape\n",
      "for article in all_links:\n",
      "    try:\n",
      "        _out_links,_in_links = get_article_links(article)\n",
      "        link_data[article] = {'Out':_out_links,\n",
      "                              'In':_in_links}\n",
      "    except:\n",
      "        print article\n",
      "        pass\n",
      "    \n",
      "# Save the data\n",
      "with open('link_data.json','wb') as f:\n",
      "    json.dump(link_data,f)"
     ]
    },
    {
     "cell_type": "code",
     "collapsed": false,
     "input": [
      "dtype_dict = {'page':unicode,\n",
      "              'revision':np.int64,\n",
      "              'anon':bool,\n",
      "              'comment':unicode,\n",
      "              'parentid':np.int64,\n",
      "              'size':np.int64,\n",
      "              'timestamp':unicode,\n",
      "              'user':unicode,\n",
      "              'userid':np.int64,\n",
      "              'unique_users':np.int64,\n",
      "              'date':unicode,\n",
      "              'diff':np.float64,\n",
      "              'latency':np.float64\n",
      "              }"
     ],
     "language": "python",
     "metadata": {},
     "outputs": []
    }
   ],
   "metadata": {}
  }
 ]
}